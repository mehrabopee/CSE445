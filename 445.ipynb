{
  "cells": [
    {
      "cell_type": "markdown",
      "metadata": {
        "id": "view-in-github",
        "colab_type": "text"
      },
      "source": [
        "<a href=\"https://colab.research.google.com/github/mehrabopee/CSE445/blob/main/445.ipynb\" target=\"_parent\"><img src=\"https://colab.research.google.com/assets/colab-badge.svg\" alt=\"Open In Colab\"/></a>"
      ]
    },
    {
      "cell_type": "code",
      "execution_count": null,
      "metadata": {
        "id": "w2iU6227MLk_"
      },
      "outputs": [],
      "source": [
        "import numpy as np\n",
        "import pandas as pd\n",
        "import matplotlib.pyplot as plt\n",
        "from sklearn.preprocessing import StandardScaler, OneHotEncoder\n",
        "from sklearn.compose import ColumnTransformer\n",
        "from imblearn.over_sampling import RandomOverSampler\n",
        "from sklearn.model_selection import cross_val_score, train_test_split, StratifiedKFold\n",
        "from sklearn.neighbors import KNeighborsClassifier\n",
        "from sklearn.tree import DecisionTreeClassifier\n",
        "from sklearn.svm import SVC\n",
        "from sklearn.datasets import load_iris\n",
        "from sklearn.metrics import classification_report, accuracy_score, confusion_matrix\n",
        "from sklearn.naive_bayes import GaussianNB\n",
        "from sklearn.model_selection import cross_validate\n",
        "#from sklearn import metrics\n",
        "from sklearn.ensemble import RandomForestClassifier\n",
        "from sklearn.datasets import load_iris\n",
        "from sklearn.linear_model import LogisticRegression\n",
        "import seaborn as sns\n",
        "import joblib"
      ]
    },
    {
      "cell_type": "code",
      "execution_count": null,
      "metadata": {
        "id": "aFZU0i_VMOis"
      },
      "outputs": [],
      "source": [
        "# Load your dataset\n",
        "df = pd.read_csv(\"dataset.csv\").dropna(axis = 1)"
      ]
    },
    {
      "cell_type": "code",
      "execution_count": null,
      "metadata": {
        "id": "hwsmsomgMQSo",
        "colab": {
          "base_uri": "https://localhost:8080/",
          "height": 206
        },
        "outputId": "048fe04d-c5ee-4bde-e5b5-1b74dff89f1e"
      },
      "outputs": [
        {
          "output_type": "execute_result",
          "data": {
            "text/plain": [
              "   Gender University Year  Interest  Support  Visit Resource  \\\n",
              "0  Female        NSU  3rd         2        5               2   \n",
              "1    Male        NSU  4th         3        4               4   \n",
              "2    Male        NSU  4th         5        5               4   \n",
              "3  Female      IUBAT  4th         4        4               5   \n",
              "4    Male        NSU  3rd         4        5               5   \n",
              "\n",
              "   Announcement Check  Class Participation Attendence Study Hours  \\\n",
              "0                   4                    1     75-100           2   \n",
              "1                   5                    4     75-100           2   \n",
              "2                   4                    4     75-100           2   \n",
              "3                   5                    1     75-100           2   \n",
              "4                   2                    4     75-100           2   \n",
              "\n",
              "   Group Study   CGPA  Stress Level  class  \n",
              "0            3  2.5-3             3      0  \n",
              "1            3  2.5-3             3      0  \n",
              "2            5   3.5+             0      1  \n",
              "3            4  3-3.5             4      1  \n",
              "4            4  3-3.5             3      1  "
            ],
            "text/html": [
              "\n",
              "  <div id=\"df-4fa29a3f-9be2-4ecb-b569-cd036b1b8ad4\" class=\"colab-df-container\">\n",
              "    <div>\n",
              "<style scoped>\n",
              "    .dataframe tbody tr th:only-of-type {\n",
              "        vertical-align: middle;\n",
              "    }\n",
              "\n",
              "    .dataframe tbody tr th {\n",
              "        vertical-align: top;\n",
              "    }\n",
              "\n",
              "    .dataframe thead th {\n",
              "        text-align: right;\n",
              "    }\n",
              "</style>\n",
              "<table border=\"1\" class=\"dataframe\">\n",
              "  <thead>\n",
              "    <tr style=\"text-align: right;\">\n",
              "      <th></th>\n",
              "      <th>Gender</th>\n",
              "      <th>University</th>\n",
              "      <th>Year</th>\n",
              "      <th>Interest</th>\n",
              "      <th>Support</th>\n",
              "      <th>Visit Resource</th>\n",
              "      <th>Announcement Check</th>\n",
              "      <th>Class Participation</th>\n",
              "      <th>Attendence</th>\n",
              "      <th>Study Hours</th>\n",
              "      <th>Group Study</th>\n",
              "      <th>CGPA</th>\n",
              "      <th>Stress Level</th>\n",
              "      <th>class</th>\n",
              "    </tr>\n",
              "  </thead>\n",
              "  <tbody>\n",
              "    <tr>\n",
              "      <th>0</th>\n",
              "      <td>Female</td>\n",
              "      <td>NSU</td>\n",
              "      <td>3rd</td>\n",
              "      <td>2</td>\n",
              "      <td>5</td>\n",
              "      <td>2</td>\n",
              "      <td>4</td>\n",
              "      <td>1</td>\n",
              "      <td>75-100</td>\n",
              "      <td>2</td>\n",
              "      <td>3</td>\n",
              "      <td>2.5-3</td>\n",
              "      <td>3</td>\n",
              "      <td>0</td>\n",
              "    </tr>\n",
              "    <tr>\n",
              "      <th>1</th>\n",
              "      <td>Male</td>\n",
              "      <td>NSU</td>\n",
              "      <td>4th</td>\n",
              "      <td>3</td>\n",
              "      <td>4</td>\n",
              "      <td>4</td>\n",
              "      <td>5</td>\n",
              "      <td>4</td>\n",
              "      <td>75-100</td>\n",
              "      <td>2</td>\n",
              "      <td>3</td>\n",
              "      <td>2.5-3</td>\n",
              "      <td>3</td>\n",
              "      <td>0</td>\n",
              "    </tr>\n",
              "    <tr>\n",
              "      <th>2</th>\n",
              "      <td>Male</td>\n",
              "      <td>NSU</td>\n",
              "      <td>4th</td>\n",
              "      <td>5</td>\n",
              "      <td>5</td>\n",
              "      <td>4</td>\n",
              "      <td>4</td>\n",
              "      <td>4</td>\n",
              "      <td>75-100</td>\n",
              "      <td>2</td>\n",
              "      <td>5</td>\n",
              "      <td>3.5+</td>\n",
              "      <td>0</td>\n",
              "      <td>1</td>\n",
              "    </tr>\n",
              "    <tr>\n",
              "      <th>3</th>\n",
              "      <td>Female</td>\n",
              "      <td>IUBAT</td>\n",
              "      <td>4th</td>\n",
              "      <td>4</td>\n",
              "      <td>4</td>\n",
              "      <td>5</td>\n",
              "      <td>5</td>\n",
              "      <td>1</td>\n",
              "      <td>75-100</td>\n",
              "      <td>2</td>\n",
              "      <td>4</td>\n",
              "      <td>3-3.5</td>\n",
              "      <td>4</td>\n",
              "      <td>1</td>\n",
              "    </tr>\n",
              "    <tr>\n",
              "      <th>4</th>\n",
              "      <td>Male</td>\n",
              "      <td>NSU</td>\n",
              "      <td>3rd</td>\n",
              "      <td>4</td>\n",
              "      <td>5</td>\n",
              "      <td>5</td>\n",
              "      <td>2</td>\n",
              "      <td>4</td>\n",
              "      <td>75-100</td>\n",
              "      <td>2</td>\n",
              "      <td>4</td>\n",
              "      <td>3-3.5</td>\n",
              "      <td>3</td>\n",
              "      <td>1</td>\n",
              "    </tr>\n",
              "  </tbody>\n",
              "</table>\n",
              "</div>\n",
              "    <div class=\"colab-df-buttons\">\n",
              "\n",
              "  <div class=\"colab-df-container\">\n",
              "    <button class=\"colab-df-convert\" onclick=\"convertToInteractive('df-4fa29a3f-9be2-4ecb-b569-cd036b1b8ad4')\"\n",
              "            title=\"Convert this dataframe to an interactive table.\"\n",
              "            style=\"display:none;\">\n",
              "\n",
              "  <svg xmlns=\"http://www.w3.org/2000/svg\" height=\"24px\" viewBox=\"0 -960 960 960\">\n",
              "    <path d=\"M120-120v-720h720v720H120Zm60-500h600v-160H180v160Zm220 220h160v-160H400v160Zm0 220h160v-160H400v160ZM180-400h160v-160H180v160Zm440 0h160v-160H620v160ZM180-180h160v-160H180v160Zm440 0h160v-160H620v160Z\"/>\n",
              "  </svg>\n",
              "    </button>\n",
              "\n",
              "  <style>\n",
              "    .colab-df-container {\n",
              "      display:flex;\n",
              "      gap: 12px;\n",
              "    }\n",
              "\n",
              "    .colab-df-convert {\n",
              "      background-color: #E8F0FE;\n",
              "      border: none;\n",
              "      border-radius: 50%;\n",
              "      cursor: pointer;\n",
              "      display: none;\n",
              "      fill: #1967D2;\n",
              "      height: 32px;\n",
              "      padding: 0 0 0 0;\n",
              "      width: 32px;\n",
              "    }\n",
              "\n",
              "    .colab-df-convert:hover {\n",
              "      background-color: #E2EBFA;\n",
              "      box-shadow: 0px 1px 2px rgba(60, 64, 67, 0.3), 0px 1px 3px 1px rgba(60, 64, 67, 0.15);\n",
              "      fill: #174EA6;\n",
              "    }\n",
              "\n",
              "    .colab-df-buttons div {\n",
              "      margin-bottom: 4px;\n",
              "    }\n",
              "\n",
              "    [theme=dark] .colab-df-convert {\n",
              "      background-color: #3B4455;\n",
              "      fill: #D2E3FC;\n",
              "    }\n",
              "\n",
              "    [theme=dark] .colab-df-convert:hover {\n",
              "      background-color: #434B5C;\n",
              "      box-shadow: 0px 1px 3px 1px rgba(0, 0, 0, 0.15);\n",
              "      filter: drop-shadow(0px 1px 2px rgba(0, 0, 0, 0.3));\n",
              "      fill: #FFFFFF;\n",
              "    }\n",
              "  </style>\n",
              "\n",
              "    <script>\n",
              "      const buttonEl =\n",
              "        document.querySelector('#df-4fa29a3f-9be2-4ecb-b569-cd036b1b8ad4 button.colab-df-convert');\n",
              "      buttonEl.style.display =\n",
              "        google.colab.kernel.accessAllowed ? 'block' : 'none';\n",
              "\n",
              "      async function convertToInteractive(key) {\n",
              "        const element = document.querySelector('#df-4fa29a3f-9be2-4ecb-b569-cd036b1b8ad4');\n",
              "        const dataTable =\n",
              "          await google.colab.kernel.invokeFunction('convertToInteractive',\n",
              "                                                    [key], {});\n",
              "        if (!dataTable) return;\n",
              "\n",
              "        const docLinkHtml = 'Like what you see? Visit the ' +\n",
              "          '<a target=\"_blank\" href=https://colab.research.google.com/notebooks/data_table.ipynb>data table notebook</a>'\n",
              "          + ' to learn more about interactive tables.';\n",
              "        element.innerHTML = '';\n",
              "        dataTable['output_type'] = 'display_data';\n",
              "        await google.colab.output.renderOutput(dataTable, element);\n",
              "        const docLink = document.createElement('div');\n",
              "        docLink.innerHTML = docLinkHtml;\n",
              "        element.appendChild(docLink);\n",
              "      }\n",
              "    </script>\n",
              "  </div>\n",
              "\n",
              "\n",
              "<div id=\"df-3ff0025c-665e-4af6-8368-de0cffd5f0b2\">\n",
              "  <button class=\"colab-df-quickchart\" onclick=\"quickchart('df-3ff0025c-665e-4af6-8368-de0cffd5f0b2')\"\n",
              "            title=\"Suggest charts\"\n",
              "            style=\"display:none;\">\n",
              "\n",
              "<svg xmlns=\"http://www.w3.org/2000/svg\" height=\"24px\"viewBox=\"0 0 24 24\"\n",
              "     width=\"24px\">\n",
              "    <g>\n",
              "        <path d=\"M19 3H5c-1.1 0-2 .9-2 2v14c0 1.1.9 2 2 2h14c1.1 0 2-.9 2-2V5c0-1.1-.9-2-2-2zM9 17H7v-7h2v7zm4 0h-2V7h2v10zm4 0h-2v-4h2v4z\"/>\n",
              "    </g>\n",
              "</svg>\n",
              "  </button>\n",
              "\n",
              "<style>\n",
              "  .colab-df-quickchart {\n",
              "      --bg-color: #E8F0FE;\n",
              "      --fill-color: #1967D2;\n",
              "      --hover-bg-color: #E2EBFA;\n",
              "      --hover-fill-color: #174EA6;\n",
              "      --disabled-fill-color: #AAA;\n",
              "      --disabled-bg-color: #DDD;\n",
              "  }\n",
              "\n",
              "  [theme=dark] .colab-df-quickchart {\n",
              "      --bg-color: #3B4455;\n",
              "      --fill-color: #D2E3FC;\n",
              "      --hover-bg-color: #434B5C;\n",
              "      --hover-fill-color: #FFFFFF;\n",
              "      --disabled-bg-color: #3B4455;\n",
              "      --disabled-fill-color: #666;\n",
              "  }\n",
              "\n",
              "  .colab-df-quickchart {\n",
              "    background-color: var(--bg-color);\n",
              "    border: none;\n",
              "    border-radius: 50%;\n",
              "    cursor: pointer;\n",
              "    display: none;\n",
              "    fill: var(--fill-color);\n",
              "    height: 32px;\n",
              "    padding: 0;\n",
              "    width: 32px;\n",
              "  }\n",
              "\n",
              "  .colab-df-quickchart:hover {\n",
              "    background-color: var(--hover-bg-color);\n",
              "    box-shadow: 0 1px 2px rgba(60, 64, 67, 0.3), 0 1px 3px 1px rgba(60, 64, 67, 0.15);\n",
              "    fill: var(--button-hover-fill-color);\n",
              "  }\n",
              "\n",
              "  .colab-df-quickchart-complete:disabled,\n",
              "  .colab-df-quickchart-complete:disabled:hover {\n",
              "    background-color: var(--disabled-bg-color);\n",
              "    fill: var(--disabled-fill-color);\n",
              "    box-shadow: none;\n",
              "  }\n",
              "\n",
              "  .colab-df-spinner {\n",
              "    border: 2px solid var(--fill-color);\n",
              "    border-color: transparent;\n",
              "    border-bottom-color: var(--fill-color);\n",
              "    animation:\n",
              "      spin 1s steps(1) infinite;\n",
              "  }\n",
              "\n",
              "  @keyframes spin {\n",
              "    0% {\n",
              "      border-color: transparent;\n",
              "      border-bottom-color: var(--fill-color);\n",
              "      border-left-color: var(--fill-color);\n",
              "    }\n",
              "    20% {\n",
              "      border-color: transparent;\n",
              "      border-left-color: var(--fill-color);\n",
              "      border-top-color: var(--fill-color);\n",
              "    }\n",
              "    30% {\n",
              "      border-color: transparent;\n",
              "      border-left-color: var(--fill-color);\n",
              "      border-top-color: var(--fill-color);\n",
              "      border-right-color: var(--fill-color);\n",
              "    }\n",
              "    40% {\n",
              "      border-color: transparent;\n",
              "      border-right-color: var(--fill-color);\n",
              "      border-top-color: var(--fill-color);\n",
              "    }\n",
              "    60% {\n",
              "      border-color: transparent;\n",
              "      border-right-color: var(--fill-color);\n",
              "    }\n",
              "    80% {\n",
              "      border-color: transparent;\n",
              "      border-right-color: var(--fill-color);\n",
              "      border-bottom-color: var(--fill-color);\n",
              "    }\n",
              "    90% {\n",
              "      border-color: transparent;\n",
              "      border-bottom-color: var(--fill-color);\n",
              "    }\n",
              "  }\n",
              "</style>\n",
              "\n",
              "  <script>\n",
              "    async function quickchart(key) {\n",
              "      const quickchartButtonEl =\n",
              "        document.querySelector('#' + key + ' button');\n",
              "      quickchartButtonEl.disabled = true;  // To prevent multiple clicks.\n",
              "      quickchartButtonEl.classList.add('colab-df-spinner');\n",
              "      try {\n",
              "        const charts = await google.colab.kernel.invokeFunction(\n",
              "            'suggestCharts', [key], {});\n",
              "      } catch (error) {\n",
              "        console.error('Error during call to suggestCharts:', error);\n",
              "      }\n",
              "      quickchartButtonEl.classList.remove('colab-df-spinner');\n",
              "      quickchartButtonEl.classList.add('colab-df-quickchart-complete');\n",
              "    }\n",
              "    (() => {\n",
              "      let quickchartButtonEl =\n",
              "        document.querySelector('#df-3ff0025c-665e-4af6-8368-de0cffd5f0b2 button');\n",
              "      quickchartButtonEl.style.display =\n",
              "        google.colab.kernel.accessAllowed ? 'block' : 'none';\n",
              "    })();\n",
              "  </script>\n",
              "</div>\n",
              "    </div>\n",
              "  </div>\n"
            ]
          },
          "metadata": {},
          "execution_count": 4
        }
      ],
      "source": [
        "# Display the first few rows of the dataset\n",
        "df.head()"
      ]
    },
    {
      "cell_type": "code",
      "execution_count": null,
      "metadata": {
        "id": "4uy49znTMSHI",
        "colab": {
          "base_uri": "https://localhost:8080/"
        },
        "outputId": "0da443ec-8c36-4ddd-e957-3de0e7925214"
      },
      "outputs": [
        {
          "output_type": "execute_result",
          "data": {
            "text/plain": [
              "array([0, 1])"
            ]
          },
          "metadata": {},
          "execution_count": 5
        }
      ],
      "source": [
        "# Check unique values in the 'class' column\n",
        "df[\"class\"].unique()"
      ]
    },
    {
      "cell_type": "code",
      "source": [
        "sum(df[\"class\"] == 0)"
      ],
      "metadata": {
        "colab": {
          "base_uri": "https://localhost:8080/"
        },
        "id": "ftyh7j0B-UsH",
        "outputId": "a8cc3d73-a4a7-406e-f7a4-7e579e8751a6"
      },
      "execution_count": null,
      "outputs": [
        {
          "output_type": "execute_result",
          "data": {
            "text/plain": [
              "157"
            ]
          },
          "metadata": {},
          "execution_count": 6
        }
      ]
    },
    {
      "cell_type": "code",
      "source": [
        "sum(df[\"class\"] == 1)"
      ],
      "metadata": {
        "colab": {
          "base_uri": "https://localhost:8080/"
        },
        "id": "YpmOt4BM-n36",
        "outputId": "d50655d0-255a-4ed7-9136-f7b758c37eb0"
      },
      "execution_count": null,
      "outputs": [
        {
          "output_type": "execute_result",
          "data": {
            "text/plain": [
              "344"
            ]
          },
          "metadata": {},
          "execution_count": 7
        }
      ]
    },
    {
      "cell_type": "code",
      "execution_count": null,
      "metadata": {
        "id": "bdtUGFFgMU5S",
        "colab": {
          "base_uri": "https://localhost:8080/"
        },
        "outputId": "a427d2cc-117d-4296-d7d0-030a78003702"
      },
      "outputs": [
        {
          "output_type": "execute_result",
          "data": {
            "text/plain": [
              "['Gender',\n",
              " 'University',\n",
              " 'Year',\n",
              " 'Interest',\n",
              " 'Support',\n",
              " 'Visit Resource',\n",
              " 'Announcement Check',\n",
              " 'Class Participation',\n",
              " 'Attendence',\n",
              " 'Study Hours',\n",
              " 'Group Study',\n",
              " 'CGPA',\n",
              " 'Stress Level']"
            ]
          },
          "metadata": {},
          "execution_count": 8
        }
      ],
      "source": [
        "# Visualize the distribution of features for each class\n",
        "cols = df.columns.tolist()\n",
        "cols.remove(\"class\")\n",
        "cols"
      ]
    },
    {
      "cell_type": "code",
      "execution_count": null,
      "metadata": {
        "colab": {
          "base_uri": "https://localhost:8080/",
          "height": 1000
        },
        "id": "ZSHTlH87MYHJ",
        "outputId": "397e7866-bd68-4545-b5ad-c5b953876853"
      },
      "outputs": [
        {
          "output_type": "display_data",
          "data": {
            "text/plain": [
              "<Figure size 800x600 with 1 Axes>"
            ],
            "image/png": "[encoded data removed]"
          },
          "metadata": {}
        },
        {
          "output_type": "display_data",
          "data": {
            "text/plain": [
              "<Figure size 800x600 with 1 Axes>"
            ],
            "image/png": "[encoded data removed]"
          },
          "metadata": {}
        },
        {
          "output_type": "display_data",
          "data": {
            "text/plain": [
              "<Figure size 800x600 with 1 Axes>"
            ],
            "image/png": "[encoded data removed]"
          },
          "metadata": {}
        },
        {
          "output_type": "display_data",
          "data": {
            "text/plain": [
              "<Figure size 800x600 with 1 Axes>"
            ],
            "image/png": "[encoded data removed]"
          },
          "metadata": {}
        },
        {
          "output_type": "display_data",
          "data": {
            "text/plain": [
              "<Figure size 800x600 with 1 Axes>"
            ],
            "image/png": "[encoded data removed]"
          },
          "metadata": {}
        },
        {
          "output_type": "display_data",
          "data": {
            "text/plain": [
              "<Figure size 800x600 with 1 Axes>"
            ],
            "image/png": "[encoded data removed]"
          },
          "metadata": {}
        },
        {
          "output_type": "display_data",
          "data": {
            "text/plain": [
              "<Figure size 800x600 with 1 Axes>"
            ],
            "image/png": "[encoded data removed]"
          },
          "metadata": {}
        },
        {
          "output_type": "display_data",
          "data": {
            "text/plain": [
              "<Figure size 800x600 with 1 Axes>"
            ],
            "image/png": "[encoded data removed]"
          },
          "metadata": {}
        },
        {
          "output_type": "display_data",
          "data": {
            "text/plain": [
              "<Figure size 800x600 with 1 Axes>"
            ],
            "image/png": "[encoded data removed]"
          },
          "metadata": {}
        },
        {
          "output_type": "display_data",
          "data": {
            "text/plain": [
              "<Figure size 800x600 with 1 Axes>"
            ],
            "image/png": "[encoded data removed]"
          },
          "metadata": {}
        },
        {
          "output_type": "display_data",
          "data": {
            "text/plain": [
              "<Figure size 800x600 with 1 Axes>"
            ],
            "image/png": "[encoded data removed]"
          },
          "metadata": {}
        },
        {
          "output_type": "display_data",
          "data": {
            "text/plain": [
              "<Figure size 800x600 with 1 Axes>"
            ],
            "image/png": "[encoded data removed]"
          },
          "metadata": {}
        },
        {
          "output_type": "display_data",
          "data": {
            "text/plain": [
              "<Figure size 800x600 with 1 Axes>"
            ],
            "image/png": "[encoded data removed]"
          },
          "metadata": {}
        }
      ],
      "source": [
        "for label in cols:\n",
        "    if label == 'Attendence':\n",
        "        # Convert the 'Attendence' column to numeric by taking the average of the range\n",
        "        df['Attendence'] = df['Attendence'].apply(lambda x: np.mean([float(i) for i in x.split('-')]))\n",
        "\n",
        "    fig, ax = plt.subplots(figsize=(8, 6))  # Adjust the figure size as needed\n",
        "\n",
        "    ax.hist(df[df[\"class\"] == 1][label], color='blue', label='Class 1', alpha=0.7)\n",
        "    ax.hist(df[df[\"class\"] == 0][label], color='red', label='Class 0', alpha=0.7)\n",
        "\n",
        "    ax.set_title(label)\n",
        "    ax.set_ylabel(\"Frequency\")\n",
        "    ax.set_xlabel(label)\n",
        "\n",
        "    ax.legend()\n",
        "\n",
        "    plt.tight_layout()  # Adjust the layout to prevent overlap\n",
        "    plt.show()\n"
      ]
    },
    {
      "cell_type": "code",
      "execution_count": null,
      "metadata": {
        "id": "mdpjFYN0Ne71"
      },
      "outputs": [],
      "source": [
        "# Splitting the data into features (X) and target variable (y)\n",
        "X = df.drop(\"class\", axis=1)\n",
        "y = df[\"class\"]"
      ]
    },
    {
      "cell_type": "code",
      "execution_count": null,
      "metadata": {
        "colab": {
          "base_uri": "https://localhost:8080/"
        },
        "id": "lH17_jtmNkW2",
        "outputId": "b815571d-41ae-4dda-d178-243709ef8eda"
      },
      "outputs": [
        {
          "output_type": "stream",
          "name": "stderr",
          "text": [
            "/usr/local/lib/python3.10/dist-packages/sklearn/preprocessing/_encoders.py:868: FutureWarning: `sparse` was renamed to `sparse_output` in version 1.2 and will be removed in 1.4. `sparse_output` is ignored unless you leave `sparse` to its default value.\n",
            "  warnings.warn(\n"
          ]
        }
      ],
      "source": [
        "# One-hot encoding for categorical columns\n",
        "encoder = OneHotEncoder(drop='first', sparse=False)\n",
        "X_encoded = pd.DataFrame(encoder.fit_transform(X[['Gender', 'University', 'Attendence', 'CGPA']]))\n",
        "X_encoded.columns = encoder.get_feature_names_out(['Gender', 'University', 'Attendence', 'CGPA'])\n",
        "X = pd.concat([X.drop(['Gender', 'University', 'Attendence', 'CGPA'], axis=1), X_encoded], axis=1)"
      ]
    },
    {
      "cell_type": "code",
      "execution_count": null,
      "metadata": {
        "id": "OS9wo2vnPvOq"
      },
      "outputs": [],
      "source": [
        "# Identify columns to exclude from scaling (e.g., categorical or one-hot encoded columns)\n",
        "exclude_columns = ['Year']\n",
        "\n",
        "# Identify non-numeric columns\n",
        "non_numeric_columns = X.select_dtypes(exclude='number').columns.tolist()\n",
        "\n",
        "# Exclude non-numeric columns and columns in the exclude_columns list\n",
        "columns_to_scale = [col for col in X.columns if col not in exclude_columns and col not in non_numeric_columns]\n",
        "\n",
        "# Convert non-numeric values to numeric in specific columns\n",
        "# For example, if 'Study' contains '<1', you can replace it with 0\n",
        "X['Study Hours'] = pd.to_numeric(X['Study Hours'], errors='coerce').fillna(0)\n",
        "\n",
        "# Scale and oversample the dataset\n",
        "scaler = StandardScaler()\n",
        "X_scaled = X.copy()\n",
        "X_scaled[columns_to_scale] = scaler.fit_transform(X[columns_to_scale])\n",
        "\n",
        "ros = RandomOverSampler()\n",
        "X_resampled, y_resampled = ros.fit_resample(X_scaled, y)"
      ]
    },
    {
      "cell_type": "code",
      "execution_count": null,
      "metadata": {
        "id": "JIZwj5kFRLk7"
      },
      "outputs": [],
      "source": [
        "# Exclude non-numeric columns\n",
        "numeric_columns = X_resampled.select_dtypes(include='number').columns.tolist()\n",
        "\n",
        "# Create a new DataFrame with only numeric columns\n",
        "X_numeric = X_resampled[numeric_columns]"
      ]
    },
    {
      "cell_type": "code",
      "execution_count": null,
      "metadata": {
        "id": "7kUlfVLqQfoJ"
      },
      "outputs": [],
      "source": [
        "# kNN\n",
        "knn_model = KNeighborsClassifier(n_neighbors=5)"
      ]
    },
    {
      "cell_type": "code",
      "execution_count": null,
      "metadata": {
        "id": "GduLT0PrQjLf"
      },
      "outputs": [],
      "source": [
        "# Apply cross-validation\n",
        "cv_score1 = cross_val_score(knn_model, X_numeric, y_resampled, cv=5, scoring='accuracy')"
      ]
    },
    {
      "cell_type": "code",
      "execution_count": null,
      "metadata": {
        "colab": {
          "base_uri": "https://localhost:8080/"
        },
        "id": "Cl3219nWSt4v",
        "outputId": "04ed80dd-a467-4de3-d178-db722ffb667b"
      },
      "outputs": [
        {
          "output_type": "stream",
          "name": "stdout",
          "text": [
            "Cross-validation scores: [0.91304348 0.92753623 0.89855072 0.96350365 0.9270073 ]\n",
            "Mean accuracy: 0.9259282767375436\n"
          ]
        }
      ],
      "source": [
        "# Display cross-validation scores\n",
        "print(\"Cross-validation scores:\", cv_score1)\n",
        "print(\"Mean accuracy:\", np.mean(cv_score1))"
      ]
    },
    {
      "cell_type": "code",
      "execution_count": null,
      "metadata": {
        "id": "J0Xlgu4vX6N9"
      },
      "outputs": [],
      "source": [
        "# Train-test split (optional)\n",
        "X_train, X_test, y_train, y_test = train_test_split(X_resampled, y_resampled, test_size=0.2, random_state=42)"
      ]
    },
    {
      "cell_type": "code",
      "source": [
        "print(f\"Train:{len(X_train)}\")"
      ],
      "metadata": {
        "colab": {
          "base_uri": "https://localhost:8080/"
        },
        "id": "KQ9kvhHqZLsu",
        "outputId": "4356112b-98f9-40ef-ec70-644093c01099"
      },
      "execution_count": null,
      "outputs": [
        {
          "output_type": "stream",
          "name": "stdout",
          "text": [
            "Train:550\n"
          ]
        }
      ]
    },
    {
      "cell_type": "code",
      "source": [
        "print(f\"Test:{len(X_test)}\")"
      ],
      "metadata": {
        "colab": {
          "base_uri": "https://localhost:8080/"
        },
        "id": "ItWveEeLZvzG",
        "outputId": "62872d96-da1b-4f75-9c1e-9117b6f79429"
      },
      "execution_count": null,
      "outputs": [
        {
          "output_type": "stream",
          "name": "stdout",
          "text": [
            "Test:138\n"
          ]
        }
      ]
    },
    {
      "cell_type": "code",
      "execution_count": null,
      "metadata": {
        "colab": {
          "base_uri": "https://localhost:8080/"
        },
        "id": "gU2e4-4_X7k4",
        "outputId": "b7e673c5-e1dc-48ec-9b14-1572b1a25058"
      },
      "outputs": [
        {
          "output_type": "stream",
          "name": "stdout",
          "text": [
            "Columns in X_train: Index(['Year', 'Interest', 'Support', 'Visit Resource', 'Announcement Check',\n",
            "       'Class Participation', 'Study Hours', 'Group Study', 'Stress Level',\n",
            "       'Gender_Male', 'University_AUST', 'University_BGMEA',\n",
            "       'University_BRAC University', 'University_BUET', 'University_BUP',\n",
            "       'University_Bangabandhu Sheikh Mujibur Rahman Agriculture University',\n",
            "       'University_Bangabandhu Sheikh Mujibur Rahman Aviation and Aerospace University',\n",
            "       'University_Bangladesh Home Economics College',\n",
            "       'University_Bhawal Badre Alom Govt. College',\n",
            "       'University_CUET, DU, HEU', 'University_City Medical College',\n",
            "       'University_Comilla Medical College', 'University_DIU',\n",
            "       'University_Dhaka Medical College',\n",
            "       'University_Dhaladia Degree College',\n",
            "       'University_Dream University of Bangladesh', 'University_EWU',\n",
            "       'University_Eden Mohila College',\n",
            "       'University_Gazipur Govt Mohila College',\n",
            "       'University_Govt College of Applied Human Science', 'University_IUB',\n",
            "       'University_IUBAT', 'University_IUT', 'University_JU',\n",
            "       'University_Jagannath University',\n",
            "       'University_Jashore University of Science and Technology',\n",
            "       'University_MBSTU', 'University_MIST',\n",
            "       'University_Mawlana Bhashani Science and Technology University',\n",
            "       'University_Model Institute of Science and Technology',\n",
            "       'University_Mymensingh Engineering College', 'University_NSU',\n",
            "       'University_National College of Home Economics',\n",
            "       'University_National University',\n",
            "       'University_Netrokona Medical College',\n",
            "       'University_Northern University Bangladesh', 'University_SUST',\n",
            "       'University_Shanto-Mariam University of Creative Technology',\n",
            "       'University_Southeast University',\n",
            "       'University_Sylhet Agricultural University', 'University_UITS',\n",
            "       'University_UIU', 'University_ULAB',\n",
            "       'University_University of Asia Pacific',\n",
            "       'University_University of Barishal', 'University_University of Dhaka',\n",
            "       'University_University of Rajshahi', 'University_Uttara University',\n",
            "       'Attendence_17.5', 'Attendence_37.5', 'Attendence_62.5',\n",
            "       'Attendence_87.5', 'CGPA_2-2.5', 'CGPA_2.5-3', 'CGPA_3-3.5',\n",
            "       'CGPA_3.5+'],\n",
            "      dtype='object')\n",
            "The 'University' column is not present in X_train. Check the column names.\n"
          ]
        }
      ],
      "source": [
        "# Print the column names in X_train\n",
        "print(\"Columns in X_train:\", X_train.columns)\n",
        "\n",
        "# Check if 'University' is in the columns\n",
        "if 'University' in X_train.columns:\n",
        "    # One-hot encode the 'University' column\n",
        "    X_train_encoded = pd.get_dummies(X_train, columns=['University'], drop_first=True)\n",
        "else:\n",
        "    print(\"The 'University' column is not present in X_train. Check the column names.\")"
      ]
    },
    {
      "cell_type": "code",
      "source": [
        "X_train.head()"
      ],
      "metadata": {
        "colab": {
          "base_uri": "https://localhost:8080/",
          "height": 273
        },
        "id": "UN1fxF2XQFqm",
        "outputId": "b32095a8-3e7f-4875-910f-5dbb4cb03ee2"
      },
      "execution_count": null,
      "outputs": [
        {
          "output_type": "execute_result",
          "data": {
            "text/plain": [
              "     Year  Interest   Support  Visit Resource  Announcement Check  \\\n",
              "278   0.0 -1.921639  0.046573        0.010018            0.175804   \n",
              "110   0.0  0.390790  0.824341       -0.826517           -2.248358   \n",
              "82    0.0  0.390790 -2.286732        0.846553            0.983858   \n",
              "51    0.0  1.161599  0.824341        0.846553           -0.632250   \n",
              "218   0.0 -0.380020  0.824341        0.846553            0.983858   \n",
              "\n",
              "     Class Participation  Study Hours  Group Study  Stress Level  Gender_Male  \\\n",
              "278            -1.059912          2.0    -1.447239      1.059354     0.815139   \n",
              "110            -0.289207          3.0    -0.120493      0.365581    -1.226784   \n",
              "82             -2.601323          2.0    -1.447239      1.059354     0.815139   \n",
              "51              0.481499          2.0     0.542880      1.059354     0.815139   \n",
              "218             0.481499          2.0    -1.447239      0.365581    -1.226784   \n",
              "\n",
              "     ...  University_University of Rajshahi  University_Uttara University  \\\n",
              "278  ...                          -0.089712                     -0.044721   \n",
              "110  ...                          -0.089712                     -0.044721   \n",
              "82   ...                          -0.089712                     -0.044721   \n",
              "51   ...                          -0.089712                     -0.044721   \n",
              "218  ...                          -0.089712                     -0.044721   \n",
              "\n",
              "     Attendence_17.5  Attendence_37.5  Attendence_62.5  Attendence_87.5  \\\n",
              "278        -0.163216        -0.247872        -0.461601         0.598100   \n",
              "110        -0.163216        -0.247872         2.166375        -1.671961   \n",
              "82         -0.163216        -0.247872        -0.461601         0.598100   \n",
              "51         -0.163216        -0.247872        -0.461601         0.598100   \n",
              "218        -0.163216         4.034335        -0.461601        -1.671961   \n",
              "\n",
              "     CGPA_2-2.5  CGPA_2.5-3  CGPA_3-3.5  CGPA_3.5+  \n",
              "278   -0.274057   -0.551985    1.144009  -0.582728  \n",
              "110   -0.274057   -0.551985    1.144009  -0.582728  \n",
              "82    -0.274057   -0.551985    1.144009  -0.582728  \n",
              "51    -0.274057   -0.551985    1.144009  -0.582728  \n",
              "218   -0.274057   -0.551985    1.144009  -0.582728  \n",
              "\n",
              "[5 rows x 66 columns]"
            ],
            "text/html": [
              "\n",
              "  <div id=\"df-86a18408-bb32-435c-9e62-6c9177e13e89\" class=\"colab-df-container\">\n",
              "    <div>\n",
              "<style scoped>\n",
              "    .dataframe tbody tr th:only-of-type {\n",
              "        vertical-align: middle;\n",
              "    }\n",
              "\n",
              "    .dataframe tbody tr th {\n",
              "        vertical-align: top;\n",
              "    }\n",
              "\n",
              "    .dataframe thead th {\n",
              "        text-align: right;\n",
              "    }\n",
              "</style>\n",
              "<table border=\"1\" class=\"dataframe\">\n",
              "  <thead>\n",
              "    <tr style=\"text-align: right;\">\n",
              "      <th></th>\n",
              "      <th>Year</th>\n",
              "      <th>Interest</th>\n",
              "      <th>Support</th>\n",
              "      <th>Visit Resource</th>\n",
              "      <th>Announcement Check</th>\n",
              "      <th>Class Participation</th>\n",
              "      <th>Study Hours</th>\n",
              "      <th>Group Study</th>\n",
              "      <th>Stress Level</th>\n",
              "      <th>Gender_Male</th>\n",
              "      <th>...</th>\n",
              "      <th>University_University of Rajshahi</th>\n",
              "      <th>University_Uttara University</th>\n",
              "      <th>Attendence_17.5</th>\n",
              "      <th>Attendence_37.5</th>\n",
              "      <th>Attendence_62.5</th>\n",
              "      <th>Attendence_87.5</th>\n",
              "      <th>CGPA_2-2.5</th>\n",
              "      <th>CGPA_2.5-3</th>\n",
              "      <th>CGPA_3-3.5</th>\n",
              "      <th>CGPA_3.5+</th>\n",
              "    </tr>\n",
              "  </thead>\n",
              "  <tbody>\n",
              "    <tr>\n",
              "      <th>278</th>\n",
              "      <td>0.0</td>\n",
              "      <td>-1.921639</td>\n",
              "      <td>0.046573</td>\n",
              "      <td>0.010018</td>\n",
              "      <td>0.175804</td>\n",
              "      <td>-1.059912</td>\n",
              "      <td>2.0</td>\n",
              "      <td>-1.447239</td>\n",
              "      <td>1.059354</td>\n",
              "      <td>0.815139</td>\n",
              "      <td>...</td>\n",
              "      <td>-0.089712</td>\n",
              "      <td>-0.044721</td>\n",
              "      <td>-0.163216</td>\n",
              "      <td>-0.247872</td>\n",
              "      <td>-0.461601</td>\n",
              "      <td>0.598100</td>\n",
              "      <td>-0.274057</td>\n",
              "      <td>-0.551985</td>\n",
              "      <td>1.144009</td>\n",
              "      <td>-0.582728</td>\n",
              "    </tr>\n",
              "    <tr>\n",
              "      <th>110</th>\n",
              "      <td>0.0</td>\n",
              "      <td>0.390790</td>\n",
              "      <td>0.824341</td>\n",
              "      <td>-0.826517</td>\n",
              "      <td>-2.248358</td>\n",
              "      <td>-0.289207</td>\n",
              "      <td>3.0</td>\n",
              "      <td>-0.120493</td>\n",
              "      <td>0.365581</td>\n",
              "      <td>-1.226784</td>\n",
              "      <td>...</td>\n",
              "      <td>-0.089712</td>\n",
              "      <td>-0.044721</td>\n",
              "      <td>-0.163216</td>\n",
              "      <td>-0.247872</td>\n",
              "      <td>2.166375</td>\n",
              "      <td>-1.671961</td>\n",
              "      <td>-0.274057</td>\n",
              "      <td>-0.551985</td>\n",
              "      <td>1.144009</td>\n",
              "      <td>-0.582728</td>\n",
              "    </tr>\n",
              "    <tr>\n",
              "      <th>82</th>\n",
              "      <td>0.0</td>\n",
              "      <td>0.390790</td>\n",
              "      <td>-2.286732</td>\n",
              "      <td>0.846553</td>\n",
              "      <td>0.983858</td>\n",
              "      <td>-2.601323</td>\n",
              "      <td>2.0</td>\n",
              "      <td>-1.447239</td>\n",
              "      <td>1.059354</td>\n",
              "      <td>0.815139</td>\n",
              "      <td>...</td>\n",
              "      <td>-0.089712</td>\n",
              "      <td>-0.044721</td>\n",
              "      <td>-0.163216</td>\n",
              "      <td>-0.247872</td>\n",
              "      <td>-0.461601</td>\n",
              "      <td>0.598100</td>\n",
              "      <td>-0.274057</td>\n",
              "      <td>-0.551985</td>\n",
              "      <td>1.144009</td>\n",
              "      <td>-0.582728</td>\n",
              "    </tr>\n",
              "    <tr>\n",
              "      <th>51</th>\n",
              "      <td>0.0</td>\n",
              "      <td>1.161599</td>\n",
              "      <td>0.824341</td>\n",
              "      <td>0.846553</td>\n",
              "      <td>-0.632250</td>\n",
              "      <td>0.481499</td>\n",
              "      <td>2.0</td>\n",
              "      <td>0.542880</td>\n",
              "      <td>1.059354</td>\n",
              "      <td>0.815139</td>\n",
              "      <td>...</td>\n",
              "      <td>-0.089712</td>\n",
              "      <td>-0.044721</td>\n",
              "      <td>-0.163216</td>\n",
              "      <td>-0.247872</td>\n",
              "      <td>-0.461601</td>\n",
              "      <td>0.598100</td>\n",
              "      <td>-0.274057</td>\n",
              "      <td>-0.551985</td>\n",
              "      <td>1.144009</td>\n",
              "      <td>-0.582728</td>\n",
              "    </tr>\n",
              "    <tr>\n",
              "      <th>218</th>\n",
              "      <td>0.0</td>\n",
              "      <td>-0.380020</td>\n",
              "      <td>0.824341</td>\n",
              "      <td>0.846553</td>\n",
              "      <td>0.983858</td>\n",
              "      <td>0.481499</td>\n",
              "      <td>2.0</td>\n",
              "      <td>-1.447239</td>\n",
              "      <td>0.365581</td>\n",
              "      <td>-1.226784</td>\n",
              "      <td>...</td>\n",
              "      <td>-0.089712</td>\n",
              "      <td>-0.044721</td>\n",
              "      <td>-0.163216</td>\n",
              "      <td>4.034335</td>\n",
              "      <td>-0.461601</td>\n",
              "      <td>-1.671961</td>\n",
              "      <td>-0.274057</td>\n",
              "      <td>-0.551985</td>\n",
              "      <td>1.144009</td>\n",
              "      <td>-0.582728</td>\n",
              "    </tr>\n",
              "  </tbody>\n",
              "</table>\n",
              "<p>5 rows × 66 columns</p>\n",
              "</div>\n",
              "    <div class=\"colab-df-buttons\">\n",
              "\n",
              "  <div class=\"colab-df-container\">\n",
              "    <button class=\"colab-df-convert\" onclick=\"convertToInteractive('df-86a18408-bb32-435c-9e62-6c9177e13e89')\"\n",
              "            title=\"Convert this dataframe to an interactive table.\"\n",
              "            style=\"display:none;\">\n",
              "\n",
              "  <svg xmlns=\"http://www.w3.org/2000/svg\" height=\"24px\" viewBox=\"0 -960 960 960\">\n",
              "    <path d=\"M120-120v-720h720v720H120Zm60-500h600v-160H180v160Zm220 220h160v-160H400v160Zm0 220h160v-160H400v160ZM180-400h160v-160H180v160Zm440 0h160v-160H620v160ZM180-180h160v-160H180v160Zm440 0h160v-160H620v160Z\"/>\n",
              "  </svg>\n",
              "    </button>\n",
              "\n",
              "  <style>\n",
              "    .colab-df-container {\n",
              "      display:flex;\n",
              "      gap: 12px;\n",
              "    }\n",
              "\n",
              "    .colab-df-convert {\n",
              "      background-color: #E8F0FE;\n",
              "      border: none;\n",
              "      border-radius: 50%;\n",
              "      cursor: pointer;\n",
              "      display: none;\n",
              "      fill: #1967D2;\n",
              "      height: 32px;\n",
              "      padding: 0 0 0 0;\n",
              "      width: 32px;\n",
              "    }\n",
              "\n",
              "    .colab-df-convert:hover {\n",
              "      background-color: #E2EBFA;\n",
              "      box-shadow: 0px 1px 2px rgba(60, 64, 67, 0.3), 0px 1px 3px 1px rgba(60, 64, 67, 0.15);\n",
              "      fill: #174EA6;\n",
              "    }\n",
              "\n",
              "    .colab-df-buttons div {\n",
              "      margin-bottom: 4px;\n",
              "    }\n",
              "\n",
              "    [theme=dark] .colab-df-convert {\n",
              "      background-color: #3B4455;\n",
              "      fill: #D2E3FC;\n",
              "    }\n",
              "\n",
              "    [theme=dark] .colab-df-convert:hover {\n",
              "      background-color: #434B5C;\n",
              "      box-shadow: 0px 1px 3px 1px rgba(0, 0, 0, 0.15);\n",
              "      filter: drop-shadow(0px 1px 2px rgba(0, 0, 0, 0.3));\n",
              "      fill: #FFFFFF;\n",
              "    }\n",
              "  </style>\n",
              "\n",
              "    <script>\n",
              "      const buttonEl =\n",
              "        document.querySelector('#df-86a18408-bb32-435c-9e62-6c9177e13e89 button.colab-df-convert');\n",
              "      buttonEl.style.display =\n",
              "        google.colab.kernel.accessAllowed ? 'block' : 'none';\n",
              "\n",
              "      async function convertToInteractive(key) {\n",
              "        const element = document.querySelector('#df-86a18408-bb32-435c-9e62-6c9177e13e89');\n",
              "        const dataTable =\n",
              "          await google.colab.kernel.invokeFunction('convertToInteractive',\n",
              "                                                    [key], {});\n",
              "        if (!dataTable) return;\n",
              "\n",
              "        const docLinkHtml = 'Like what you see? Visit the ' +\n",
              "          '<a target=\"_blank\" href=https://colab.research.google.com/notebooks/data_table.ipynb>data table notebook</a>'\n",
              "          + ' to learn more about interactive tables.';\n",
              "        element.innerHTML = '';\n",
              "        dataTable['output_type'] = 'display_data';\n",
              "        await google.colab.output.renderOutput(dataTable, element);\n",
              "        const docLink = document.createElement('div');\n",
              "        docLink.innerHTML = docLinkHtml;\n",
              "        element.appendChild(docLink);\n",
              "      }\n",
              "    </script>\n",
              "  </div>\n",
              "\n",
              "\n",
              "<div id=\"df-4fb33110-cc48-4b94-afb7-034f6104e10c\">\n",
              "  <button class=\"colab-df-quickchart\" onclick=\"quickchart('df-4fb33110-cc48-4b94-afb7-034f6104e10c')\"\n",
              "            title=\"Suggest charts\"\n",
              "            style=\"display:none;\">\n",
              "\n",
              "<svg xmlns=\"http://www.w3.org/2000/svg\" height=\"24px\"viewBox=\"0 0 24 24\"\n",
              "     width=\"24px\">\n",
              "    <g>\n",
              "        <path d=\"M19 3H5c-1.1 0-2 .9-2 2v14c0 1.1.9 2 2 2h14c1.1 0 2-.9 2-2V5c0-1.1-.9-2-2-2zM9 17H7v-7h2v7zm4 0h-2V7h2v10zm4 0h-2v-4h2v4z\"/>\n",
              "    </g>\n",
              "</svg>\n",
              "  </button>\n",
              "\n",
              "<style>\n",
              "  .colab-df-quickchart {\n",
              "      --bg-color: #E8F0FE;\n",
              "      --fill-color: #1967D2;\n",
              "      --hover-bg-color: #E2EBFA;\n",
              "      --hover-fill-color: #174EA6;\n",
              "      --disabled-fill-color: #AAA;\n",
              "      --disabled-bg-color: #DDD;\n",
              "  }\n",
              "\n",
              "  [theme=dark] .colab-df-quickchart {\n",
              "      --bg-color: #3B4455;\n",
              "      --fill-color: #D2E3FC;\n",
              "      --hover-bg-color: #434B5C;\n",
              "      --hover-fill-color: #FFFFFF;\n",
              "      --disabled-bg-color: #3B4455;\n",
              "      --disabled-fill-color: #666;\n",
              "  }\n",
              "\n",
              "  .colab-df-quickchart {\n",
              "    background-color: var(--bg-color);\n",
              "    border: none;\n",
              "    border-radius: 50%;\n",
              "    cursor: pointer;\n",
              "    display: none;\n",
              "    fill: var(--fill-color);\n",
              "    height: 32px;\n",
              "    padding: 0;\n",
              "    width: 32px;\n",
              "  }\n",
              "\n",
              "  .colab-df-quickchart:hover {\n",
              "    background-color: var(--hover-bg-color);\n",
              "    box-shadow: 0 1px 2px rgba(60, 64, 67, 0.3), 0 1px 3px 1px rgba(60, 64, 67, 0.15);\n",
              "    fill: var(--button-hover-fill-color);\n",
              "  }\n",
              "\n",
              "  .colab-df-quickchart-complete:disabled,\n",
              "  .colab-df-quickchart-complete:disabled:hover {\n",
              "    background-color: var(--disabled-bg-color);\n",
              "    fill: var(--disabled-fill-color);\n",
              "    box-shadow: none;\n",
              "  }\n",
              "\n",
              "  .colab-df-spinner {\n",
              "    border: 2px solid var(--fill-color);\n",
              "    border-color: transparent;\n",
              "    border-bottom-color: var(--fill-color);\n",
              "    animation:\n",
              "      spin 1s steps(1) infinite;\n",
              "  }\n",
              "\n",
              "  @keyframes spin {\n",
              "    0% {\n",
              "      border-color: transparent;\n",
              "      border-bottom-color: var(--fill-color);\n",
              "      border-left-color: var(--fill-color);\n",
              "    }\n",
              "    20% {\n",
              "      border-color: transparent;\n",
              "      border-left-color: var(--fill-color);\n",
              "      border-top-color: var(--fill-color);\n",
              "    }\n",
              "    30% {\n",
              "      border-color: transparent;\n",
              "      border-left-color: var(--fill-color);\n",
              "      border-top-color: var(--fill-color);\n",
              "      border-right-color: var(--fill-color);\n",
              "    }\n",
              "    40% {\n",
              "      border-color: transparent;\n",
              "      border-right-color: var(--fill-color);\n",
              "      border-top-color: var(--fill-color);\n",
              "    }\n",
              "    60% {\n",
              "      border-color: transparent;\n",
              "      border-right-color: var(--fill-color);\n",
              "    }\n",
              "    80% {\n",
              "      border-color: transparent;\n",
              "      border-right-color: var(--fill-color);\n",
              "      border-bottom-color: var(--fill-color);\n",
              "    }\n",
              "    90% {\n",
              "      border-color: transparent;\n",
              "      border-bottom-color: var(--fill-color);\n",
              "    }\n",
              "  }\n",
              "</style>\n",
              "\n",
              "  <script>\n",
              "    async function quickchart(key) {\n",
              "      const quickchartButtonEl =\n",
              "        document.querySelector('#' + key + ' button');\n",
              "      quickchartButtonEl.disabled = true;  // To prevent multiple clicks.\n",
              "      quickchartButtonEl.classList.add('colab-df-spinner');\n",
              "      try {\n",
              "        const charts = await google.colab.kernel.invokeFunction(\n",
              "            'suggestCharts', [key], {});\n",
              "      } catch (error) {\n",
              "        console.error('Error during call to suggestCharts:', error);\n",
              "      }\n",
              "      quickchartButtonEl.classList.remove('colab-df-spinner');\n",
              "      quickchartButtonEl.classList.add('colab-df-quickchart-complete');\n",
              "    }\n",
              "    (() => {\n",
              "      let quickchartButtonEl =\n",
              "        document.querySelector('#df-4fb33110-cc48-4b94-afb7-034f6104e10c button');\n",
              "      quickchartButtonEl.style.display =\n",
              "        google.colab.kernel.accessAllowed ? 'block' : 'none';\n",
              "    })();\n",
              "  </script>\n",
              "</div>\n",
              "    </div>\n",
              "  </div>\n"
            ]
          },
          "metadata": {},
          "execution_count": 64
        }
      ]
    },
    {
      "cell_type": "code",
      "execution_count": null,
      "metadata": {
        "id": "Mrh7rn6YY0V-"
      },
      "outputs": [],
      "source": [
        "# Identify non-numeric columns in X_train\n",
        "non_numeric_columns_train = X_train.select_dtypes(exclude='number').columns.tolist()\n",
        "\n",
        "# Check if there are any non-numeric columns\n",
        "if non_numeric_columns_train:\n",
        "    # Convert non-numeric values to numeric in specific columns\n",
        "    for col in non_numeric_columns_train:\n",
        "        X_train[col] = pd.to_numeric(X_train[col], errors='coerce').fillna(0)\n",
        "\n",
        "# Check if 'University' column is present in X_train\n",
        "if 'University' in X_train.columns:\n",
        "    # Check if 'University' column has string values\n",
        "    if X_train['University'].dtype == 'O':\n",
        "        # One-hot encode the 'University' column\n",
        "        column_transformer = ColumnTransformer(\n",
        "            transformers=[('encoder', OneHotEncoder(), ['University'])],\n",
        "            remainder='passthrough'\n",
        "        )\n",
        "        X_train_encoded = pd.DataFrame(column_transformer.fit_transform(X_train[['University']]))\n",
        "        X_train_encoded.columns = column_transformer.get_feature_names_out(['University'])\n",
        "        X_train_encoded.index = X_train.index\n",
        "        X_train = pd.concat([X_train.drop(['University'], axis=1), X_train_encoded], axis=1)\n",
        "\n",
        "    # Fit the model on the training set\n",
        "    knn_model.fit(X_train, y_train)\n",
        "else:\n",
        "    # If 'University' column is not present, fit the model directly on X_train\n",
        "    knn_model.fit(X_train, y_train)\n"
      ]
    },
    {
      "cell_type": "code",
      "source": [
        "# Save the kNN model weights\n",
        "joblib.dump(knn_model, 'knn_model_weights.joblib')"
      ],
      "metadata": {
        "colab": {
          "base_uri": "https://localhost:8080/"
        },
        "id": "BX3SpsdeEkrJ",
        "outputId": "b6a70948-f9b8-4368-b90d-1dfc0ffc867b"
      },
      "execution_count": null,
      "outputs": [
        {
          "output_type": "execute_result",
          "data": {
            "text/plain": [
              "['knn_model_weights.joblib']"
            ]
          },
          "metadata": {},
          "execution_count": 23
        }
      ]
    },
    {
      "cell_type": "code",
      "source": [
        "# Load the kNN model weights (for demonstration purposes)\n",
        "loaded_knn_model = joblib.load('knn_model_weights.joblib')"
      ],
      "metadata": {
        "id": "0M6QzsSIErYC"
      },
      "execution_count": null,
      "outputs": []
    },
    {
      "cell_type": "code",
      "source": [
        "print(loaded_knn_model)"
      ],
      "metadata": {
        "colab": {
          "base_uri": "https://localhost:8080/"
        },
        "id": "Zn5baxdTawLW",
        "outputId": "4a15ab81-c9a3-47da-f95f-81517f0570af"
      },
      "execution_count": null,
      "outputs": [
        {
          "output_type": "stream",
          "name": "stdout",
          "text": [
            "KNeighborsClassifier()\n"
          ]
        }
      ]
    },
    {
      "cell_type": "code",
      "source": [
        "X_numeric.head()"
      ],
      "metadata": {
        "colab": {
          "base_uri": "https://localhost:8080/",
          "height": 273
        },
        "id": "7DEgoc5CQ2Sg",
        "outputId": "a613fdbc-3c43-4a6a-cda4-325af99a638d"
      },
      "execution_count": null,
      "outputs": [
        {
          "output_type": "execute_result",
          "data": {
            "text/plain": [
              "   Interest   Support  Visit Resource  Announcement Check  \\\n",
              "0 -1.150829  0.824341       -1.663052            0.175804   \n",
              "1 -0.380020  0.046573        0.010018            0.983858   \n",
              "2  1.161599  0.824341        0.010018            0.175804   \n",
              "3  0.390790  0.046573        0.846553            0.983858   \n",
              "4  0.390790  0.824341        0.846553           -1.440304   \n",
              "\n",
              "   Class Participation  Study Hours  Group Study  Stress Level  Gender_Male  \\\n",
              "0            -1.830618          2.0     0.542880     -0.328192    -1.226784   \n",
              "1             0.481499          2.0     0.542880     -0.328192     0.815139   \n",
              "2             0.481499          2.0     1.869626     -2.409510     0.815139   \n",
              "3            -1.830618          2.0     1.206253      0.365581    -1.226784   \n",
              "4             0.481499          2.0     1.206253     -0.328192     0.815139   \n",
              "\n",
              "   University_AUST  ...  University_University of Rajshahi  \\\n",
              "0        -0.089712  ...                          -0.089712   \n",
              "1        -0.089712  ...                          -0.089712   \n",
              "2        -0.089712  ...                          -0.089712   \n",
              "3        -0.089712  ...                          -0.089712   \n",
              "4        -0.089712  ...                          -0.089712   \n",
              "\n",
              "   University_Uttara University  Attendence_17.5  Attendence_37.5  \\\n",
              "0                     -0.044721        -0.163216        -0.247872   \n",
              "1                     -0.044721        -0.163216        -0.247872   \n",
              "2                     -0.044721        -0.163216        -0.247872   \n",
              "3                     -0.044721        -0.163216        -0.247872   \n",
              "4                     -0.044721        -0.163216        -0.247872   \n",
              "\n",
              "   Attendence_62.5  Attendence_87.5  CGPA_2-2.5  CGPA_2.5-3  CGPA_3-3.5  \\\n",
              "0        -0.461601           0.5981   -0.274057    1.811643   -0.874119   \n",
              "1        -0.461601           0.5981   -0.274057    1.811643   -0.874119   \n",
              "2        -0.461601           0.5981   -0.274057   -0.551985   -0.874119   \n",
              "3        -0.461601           0.5981   -0.274057   -0.551985    1.144009   \n",
              "4        -0.461601           0.5981   -0.274057   -0.551985    1.144009   \n",
              "\n",
              "   CGPA_3.5+  \n",
              "0  -0.582728  \n",
              "1  -0.582728  \n",
              "2   1.716066  \n",
              "3  -0.582728  \n",
              "4  -0.582728  \n",
              "\n",
              "[5 rows x 65 columns]"
            ],
            "text/html": [
              "\n",
              "  <div id=\"df-160b43f8-cdcb-404a-ae0a-a4b609b19de4\" class=\"colab-df-container\">\n",
              "    <div>\n",
              "<style scoped>\n",
              "    .dataframe tbody tr th:only-of-type {\n",
              "        vertical-align: middle;\n",
              "    }\n",
              "\n",
              "    .dataframe tbody tr th {\n",
              "        vertical-align: top;\n",
              "    }\n",
              "\n",
              "    .dataframe thead th {\n",
              "        text-align: right;\n",
              "    }\n",
              "</style>\n",
              "<table border=\"1\" class=\"dataframe\">\n",
              "  <thead>\n",
              "    <tr style=\"text-align: right;\">\n",
              "      <th></th>\n",
              "      <th>Interest</th>\n",
              "      <th>Support</th>\n",
              "      <th>Visit Resource</th>\n",
              "      <th>Announcement Check</th>\n",
              "      <th>Class Participation</th>\n",
              "      <th>Study Hours</th>\n",
              "      <th>Group Study</th>\n",
              "      <th>Stress Level</th>\n",
              "      <th>Gender_Male</th>\n",
              "      <th>University_AUST</th>\n",
              "      <th>...</th>\n",
              "      <th>University_University of Rajshahi</th>\n",
              "      <th>University_Uttara University</th>\n",
              "      <th>Attendence_17.5</th>\n",
              "      <th>Attendence_37.5</th>\n",
              "      <th>Attendence_62.5</th>\n",
              "      <th>Attendence_87.5</th>\n",
              "      <th>CGPA_2-2.5</th>\n",
              "      <th>CGPA_2.5-3</th>\n",
              "      <th>CGPA_3-3.5</th>\n",
              "      <th>CGPA_3.5+</th>\n",
              "    </tr>\n",
              "  </thead>\n",
              "  <tbody>\n",
              "    <tr>\n",
              "      <th>0</th>\n",
              "      <td>-1.150829</td>\n",
              "      <td>0.824341</td>\n",
              "      <td>-1.663052</td>\n",
              "      <td>0.175804</td>\n",
              "      <td>-1.830618</td>\n",
              "      <td>2.0</td>\n",
              "      <td>0.542880</td>\n",
              "      <td>-0.328192</td>\n",
              "      <td>-1.226784</td>\n",
              "      <td>-0.089712</td>\n",
              "      <td>...</td>\n",
              "      <td>-0.089712</td>\n",
              "      <td>-0.044721</td>\n",
              "      <td>-0.163216</td>\n",
              "      <td>-0.247872</td>\n",
              "      <td>-0.461601</td>\n",
              "      <td>0.5981</td>\n",
              "      <td>-0.274057</td>\n",
              "      <td>1.811643</td>\n",
              "      <td>-0.874119</td>\n",
              "      <td>-0.582728</td>\n",
              "    </tr>\n",
              "    <tr>\n",
              "      <th>1</th>\n",
              "      <td>-0.380020</td>\n",
              "      <td>0.046573</td>\n",
              "      <td>0.010018</td>\n",
              "      <td>0.983858</td>\n",
              "      <td>0.481499</td>\n",
              "      <td>2.0</td>\n",
              "      <td>0.542880</td>\n",
              "      <td>-0.328192</td>\n",
              "      <td>0.815139</td>\n",
              "      <td>-0.089712</td>\n",
              "      <td>...</td>\n",
              "      <td>-0.089712</td>\n",
              "      <td>-0.044721</td>\n",
              "      <td>-0.163216</td>\n",
              "      <td>-0.247872</td>\n",
              "      <td>-0.461601</td>\n",
              "      <td>0.5981</td>\n",
              "      <td>-0.274057</td>\n",
              "      <td>1.811643</td>\n",
              "      <td>-0.874119</td>\n",
              "      <td>-0.582728</td>\n",
              "    </tr>\n",
              "    <tr>\n",
              "      <th>2</th>\n",
              "      <td>1.161599</td>\n",
              "      <td>0.824341</td>\n",
              "      <td>0.010018</td>\n",
              "      <td>0.175804</td>\n",
              "      <td>0.481499</td>\n",
              "      <td>2.0</td>\n",
              "      <td>1.869626</td>\n",
              "      <td>-2.409510</td>\n",
              "      <td>0.815139</td>\n",
              "      <td>-0.089712</td>\n",
              "      <td>...</td>\n",
              "      <td>-0.089712</td>\n",
              "      <td>-0.044721</td>\n",
              "      <td>-0.163216</td>\n",
              "      <td>-0.247872</td>\n",
              "      <td>-0.461601</td>\n",
              "      <td>0.5981</td>\n",
              "      <td>-0.274057</td>\n",
              "      <td>-0.551985</td>\n",
              "      <td>-0.874119</td>\n",
              "      <td>1.716066</td>\n",
              "    </tr>\n",
              "    <tr>\n",
              "      <th>3</th>\n",
              "      <td>0.390790</td>\n",
              "      <td>0.046573</td>\n",
              "      <td>0.846553</td>\n",
              "      <td>0.983858</td>\n",
              "      <td>-1.830618</td>\n",
              "      <td>2.0</td>\n",
              "      <td>1.206253</td>\n",
              "      <td>0.365581</td>\n",
              "      <td>-1.226784</td>\n",
              "      <td>-0.089712</td>\n",
              "      <td>...</td>\n",
              "      <td>-0.089712</td>\n",
              "      <td>-0.044721</td>\n",
              "      <td>-0.163216</td>\n",
              "      <td>-0.247872</td>\n",
              "      <td>-0.461601</td>\n",
              "      <td>0.5981</td>\n",
              "      <td>-0.274057</td>\n",
              "      <td>-0.551985</td>\n",
              "      <td>1.144009</td>\n",
              "      <td>-0.582728</td>\n",
              "    </tr>\n",
              "    <tr>\n",
              "      <th>4</th>\n",
              "      <td>0.390790</td>\n",
              "      <td>0.824341</td>\n",
              "      <td>0.846553</td>\n",
              "      <td>-1.440304</td>\n",
              "      <td>0.481499</td>\n",
              "      <td>2.0</td>\n",
              "      <td>1.206253</td>\n",
              "      <td>-0.328192</td>\n",
              "      <td>0.815139</td>\n",
              "      <td>-0.089712</td>\n",
              "      <td>...</td>\n",
              "      <td>-0.089712</td>\n",
              "      <td>-0.044721</td>\n",
              "      <td>-0.163216</td>\n",
              "      <td>-0.247872</td>\n",
              "      <td>-0.461601</td>\n",
              "      <td>0.5981</td>\n",
              "      <td>-0.274057</td>\n",
              "      <td>-0.551985</td>\n",
              "      <td>1.144009</td>\n",
              "      <td>-0.582728</td>\n",
              "    </tr>\n",
              "  </tbody>\n",
              "</table>\n",
              "<p>5 rows × 65 columns</p>\n",
              "</div>\n",
              "    <div class=\"colab-df-buttons\">\n",
              "\n",
              "  <div class=\"colab-df-container\">\n",
              "    <button class=\"colab-df-convert\" onclick=\"convertToInteractive('df-160b43f8-cdcb-404a-ae0a-a4b609b19de4')\"\n",
              "            title=\"Convert this dataframe to an interactive table.\"\n",
              "            style=\"display:none;\">\n",
              "\n",
              "  <svg xmlns=\"http://www.w3.org/2000/svg\" height=\"24px\" viewBox=\"0 -960 960 960\">\n",
              "    <path d=\"M120-120v-720h720v720H120Zm60-500h600v-160H180v160Zm220 220h160v-160H400v160Zm0 220h160v-160H400v160ZM180-400h160v-160H180v160Zm440 0h160v-160H620v160ZM180-180h160v-160H180v160Zm440 0h160v-160H620v160Z\"/>\n",
              "  </svg>\n",
              "    </button>\n",
              "\n",
              "  <style>\n",
              "    .colab-df-container {\n",
              "      display:flex;\n",
              "      gap: 12px;\n",
              "    }\n",
              "\n",
              "    .colab-df-convert {\n",
              "      background-color: #E8F0FE;\n",
              "      border: none;\n",
              "      border-radius: 50%;\n",
              "      cursor: pointer;\n",
              "      display: none;\n",
              "      fill: #1967D2;\n",
              "      height: 32px;\n",
              "      padding: 0 0 0 0;\n",
              "      width: 32px;\n",
              "    }\n",
              "\n",
              "    .colab-df-convert:hover {\n",
              "      background-color: #E2EBFA;\n",
              "      box-shadow: 0px 1px 2px rgba(60, 64, 67, 0.3), 0px 1px 3px 1px rgba(60, 64, 67, 0.15);\n",
              "      fill: #174EA6;\n",
              "    }\n",
              "\n",
              "    .colab-df-buttons div {\n",
              "      margin-bottom: 4px;\n",
              "    }\n",
              "\n",
              "    [theme=dark] .colab-df-convert {\n",
              "      background-color: #3B4455;\n",
              "      fill: #D2E3FC;\n",
              "    }\n",
              "\n",
              "    [theme=dark] .colab-df-convert:hover {\n",
              "      background-color: #434B5C;\n",
              "      box-shadow: 0px 1px 3px 1px rgba(0, 0, 0, 0.15);\n",
              "      filter: drop-shadow(0px 1px 2px rgba(0, 0, 0, 0.3));\n",
              "      fill: #FFFFFF;\n",
              "    }\n",
              "  </style>\n",
              "\n",
              "    <script>\n",
              "      const buttonEl =\n",
              "        document.querySelector('#df-160b43f8-cdcb-404a-ae0a-a4b609b19de4 button.colab-df-convert');\n",
              "      buttonEl.style.display =\n",
              "        google.colab.kernel.accessAllowed ? 'block' : 'none';\n",
              "\n",
              "      async function convertToInteractive(key) {\n",
              "        const element = document.querySelector('#df-160b43f8-cdcb-404a-ae0a-a4b609b19de4');\n",
              "        const dataTable =\n",
              "          await google.colab.kernel.invokeFunction('convertToInteractive',\n",
              "                                                    [key], {});\n",
              "        if (!dataTable) return;\n",
              "\n",
              "        const docLinkHtml = 'Like what you see? Visit the ' +\n",
              "          '<a target=\"_blank\" href=https://colab.research.google.com/notebooks/data_table.ipynb>data table notebook</a>'\n",
              "          + ' to learn more about interactive tables.';\n",
              "        element.innerHTML = '';\n",
              "        dataTable['output_type'] = 'display_data';\n",
              "        await google.colab.output.renderOutput(dataTable, element);\n",
              "        const docLink = document.createElement('div');\n",
              "        docLink.innerHTML = docLinkHtml;\n",
              "        element.appendChild(docLink);\n",
              "      }\n",
              "    </script>\n",
              "  </div>\n",
              "\n",
              "\n",
              "<div id=\"df-a5c3ebf5-8e9c-4de3-b54b-61da53f02d03\">\n",
              "  <button class=\"colab-df-quickchart\" onclick=\"quickchart('df-a5c3ebf5-8e9c-4de3-b54b-61da53f02d03')\"\n",
              "            title=\"Suggest charts\"\n",
              "            style=\"display:none;\">\n",
              "\n",
              "<svg xmlns=\"http://www.w3.org/2000/svg\" height=\"24px\"viewBox=\"0 0 24 24\"\n",
              "     width=\"24px\">\n",
              "    <g>\n",
              "        <path d=\"M19 3H5c-1.1 0-2 .9-2 2v14c0 1.1.9 2 2 2h14c1.1 0 2-.9 2-2V5c0-1.1-.9-2-2-2zM9 17H7v-7h2v7zm4 0h-2V7h2v10zm4 0h-2v-4h2v4z\"/>\n",
              "    </g>\n",
              "</svg>\n",
              "  </button>\n",
              "\n",
              "<style>\n",
              "  .colab-df-quickchart {\n",
              "      --bg-color: #E8F0FE;\n",
              "      --fill-color: #1967D2;\n",
              "      --hover-bg-color: #E2EBFA;\n",
              "      --hover-fill-color: #174EA6;\n",
              "      --disabled-fill-color: #AAA;\n",
              "      --disabled-bg-color: #DDD;\n",
              "  }\n",
              "\n",
              "  [theme=dark] .colab-df-quickchart {\n",
              "      --bg-color: #3B4455;\n",
              "      --fill-color: #D2E3FC;\n",
              "      --hover-bg-color: #434B5C;\n",
              "      --hover-fill-color: #FFFFFF;\n",
              "      --disabled-bg-color: #3B4455;\n",
              "      --disabled-fill-color: #666;\n",
              "  }\n",
              "\n",
              "  .colab-df-quickchart {\n",
              "    background-color: var(--bg-color);\n",
              "    border: none;\n",
              "    border-radius: 50%;\n",
              "    cursor: pointer;\n",
              "    display: none;\n",
              "    fill: var(--fill-color);\n",
              "    height: 32px;\n",
              "    padding: 0;\n",
              "    width: 32px;\n",
              "  }\n",
              "\n",
              "  .colab-df-quickchart:hover {\n",
              "    background-color: var(--hover-bg-color);\n",
              "    box-shadow: 0 1px 2px rgba(60, 64, 67, 0.3), 0 1px 3px 1px rgba(60, 64, 67, 0.15);\n",
              "    fill: var(--button-hover-fill-color);\n",
              "  }\n",
              "\n",
              "  .colab-df-quickchart-complete:disabled,\n",
              "  .colab-df-quickchart-complete:disabled:hover {\n",
              "    background-color: var(--disabled-bg-color);\n",
              "    fill: var(--disabled-fill-color);\n",
              "    box-shadow: none;\n",
              "  }\n",
              "\n",
              "  .colab-df-spinner {\n",
              "    border: 2px solid var(--fill-color);\n",
              "    border-color: transparent;\n",
              "    border-bottom-color: var(--fill-color);\n",
              "    animation:\n",
              "      spin 1s steps(1) infinite;\n",
              "  }\n",
              "\n",
              "  @keyframes spin {\n",
              "    0% {\n",
              "      border-color: transparent;\n",
              "      border-bottom-color: var(--fill-color);\n",
              "      border-left-color: var(--fill-color);\n",
              "    }\n",
              "    20% {\n",
              "      border-color: transparent;\n",
              "      border-left-color: var(--fill-color);\n",
              "      border-top-color: var(--fill-color);\n",
              "    }\n",
              "    30% {\n",
              "      border-color: transparent;\n",
              "      border-left-color: var(--fill-color);\n",
              "      border-top-color: var(--fill-color);\n",
              "      border-right-color: var(--fill-color);\n",
              "    }\n",
              "    40% {\n",
              "      border-color: transparent;\n",
              "      border-right-color: var(--fill-color);\n",
              "      border-top-color: var(--fill-color);\n",
              "    }\n",
              "    60% {\n",
              "      border-color: transparent;\n",
              "      border-right-color: var(--fill-color);\n",
              "    }\n",
              "    80% {\n",
              "      border-color: transparent;\n",
              "      border-right-color: var(--fill-color);\n",
              "      border-bottom-color: var(--fill-color);\n",
              "    }\n",
              "    90% {\n",
              "      border-color: transparent;\n",
              "      border-bottom-color: var(--fill-color);\n",
              "    }\n",
              "  }\n",
              "</style>\n",
              "\n",
              "  <script>\n",
              "    async function quickchart(key) {\n",
              "      const quickchartButtonEl =\n",
              "        document.querySelector('#' + key + ' button');\n",
              "      quickchartButtonEl.disabled = true;  // To prevent multiple clicks.\n",
              "      quickchartButtonEl.classList.add('colab-df-spinner');\n",
              "      try {\n",
              "        const charts = await google.colab.kernel.invokeFunction(\n",
              "            'suggestCharts', [key], {});\n",
              "      } catch (error) {\n",
              "        console.error('Error during call to suggestCharts:', error);\n",
              "      }\n",
              "      quickchartButtonEl.classList.remove('colab-df-spinner');\n",
              "      quickchartButtonEl.classList.add('colab-df-quickchart-complete');\n",
              "    }\n",
              "    (() => {\n",
              "      let quickchartButtonEl =\n",
              "        document.querySelector('#df-a5c3ebf5-8e9c-4de3-b54b-61da53f02d03 button');\n",
              "      quickchartButtonEl.style.display =\n",
              "        google.colab.kernel.accessAllowed ? 'block' : 'none';\n",
              "    })();\n",
              "  </script>\n",
              "</div>\n",
              "    </div>\n",
              "  </div>\n"
            ]
          },
          "metadata": {},
          "execution_count": 65
        }
      ]
    },
    {
      "cell_type": "code",
      "source": [
        "y_resampled.unique()"
      ],
      "metadata": {
        "colab": {
          "base_uri": "https://localhost:8080/"
        },
        "id": "jZWoxVhsQ5pG",
        "outputId": "b3b582d5-8698-4ac4-b66e-47444ee4ffce"
      },
      "execution_count": null,
      "outputs": [
        {
          "output_type": "execute_result",
          "data": {
            "text/plain": [
              "array([0, 1])"
            ]
          },
          "metadata": {},
          "execution_count": 78
        }
      ]
    },
    {
      "cell_type": "code",
      "execution_count": null,
      "metadata": {
        "colab": {
          "base_uri": "https://localhost:8080/"
        },
        "id": "rgMGOps7cKCG",
        "outputId": "9d695c53-759b-43d8-cdb3-6dde818f1c80"
      },
      "outputs": [
        {
          "output_type": "stream",
          "name": "stdout",
          "text": [
            "\n",
            "Train Set Evaluation:\n",
            "              precision    recall  f1-score   support\n",
            "\n",
            "           0       0.95      0.97      0.96       286\n",
            "           1       0.96      0.94      0.95       264\n",
            "\n",
            "    accuracy                           0.95       550\n",
            "   macro avg       0.96      0.95      0.95       550\n",
            "weighted avg       0.95      0.95      0.95       550\n",
            "\n",
            "\n",
            "Test Set Evaluation:\n",
            "              precision    recall  f1-score   support\n",
            "\n",
            "           0       0.86      0.95      0.90        58\n",
            "           1       0.96      0.89      0.92        80\n",
            "\n",
            "    accuracy                           0.91       138\n",
            "   macro avg       0.91      0.92      0.91       138\n",
            "weighted avg       0.92      0.91      0.91       138\n",
            "\n"
          ]
        }
      ],
      "source": [
        "# Identify non-numeric columns in X_test\n",
        "non_numeric_columns_test = X_test.select_dtypes(exclude='number').columns.tolist()\n",
        "\n",
        "# Check if there are any non-numeric columns in X_test\n",
        "if non_numeric_columns_test:\n",
        "    # Convert non-numeric values to numeric in specific columns\n",
        "    for col in non_numeric_columns_test:\n",
        "        X_test[col] = pd.to_numeric(X_test[col], errors='coerce').fillna(0)\n",
        "\n",
        "# Make predictions on the train & test set\n",
        "y_pred1 = knn_model.predict(X_train)\n",
        "y_pred2 = knn_model.predict(X_test)\n",
        "\n",
        "# Evaluate the model on the train set\n",
        "print(\"\\nTrain Set Evaluation:\")\n",
        "print(classification_report(y_train, y_pred1))\n",
        "# Evaluate the model on the test set\n",
        "print(\"\\nTest Set Evaluation:\")\n",
        "print(classification_report(y_test, y_pred2))\n"
      ]
    },
    {
      "cell_type": "code",
      "source": [
        "decision_model = DecisionTreeClassifier(random_state=42)"
      ],
      "metadata": {
        "id": "fi6AWkHezc2l"
      },
      "execution_count": null,
      "outputs": []
    },
    {
      "cell_type": "code",
      "source": [
        "# Apply cross-validation\n",
        "cv_score2 = cross_val_score(decision_model, X_numeric, y_resampled, cv=5, scoring='accuracy')"
      ],
      "metadata": {
        "id": "OTH1WGm2cjz8"
      },
      "execution_count": null,
      "outputs": []
    },
    {
      "cell_type": "code",
      "source": [
        "# Display cross-validation scores\n",
        "print(\"Cross-validation scores:\", cv_score2)\n",
        "print(\"Mean accuracy:\", np.mean(cv_score2))"
      ],
      "metadata": {
        "colab": {
          "base_uri": "https://localhost:8080/"
        },
        "id": "b6dxF4yCcjq8",
        "outputId": "9a31c384-3a43-4296-d70d-8aa774a251d4"
      },
      "execution_count": null,
      "outputs": [
        {
          "output_type": "stream",
          "name": "stdout",
          "text": [
            "Cross-validation scores: [0.98550725 0.97101449 0.98550725 1.         0.97810219]\n",
            "Mean accuracy: 0.9840262350576537\n"
          ]
        }
      ]
    },
    {
      "cell_type": "code",
      "source": [
        "# Train the model\n",
        "decision_model.fit(X_train, y_train)"
      ],
      "metadata": {
        "colab": {
          "base_uri": "https://localhost:8080/",
          "height": 74
        },
        "id": "BUqaz2ZYzr6K",
        "outputId": "857cf528-ccc8-4a61-a156-3428761cad7f"
      },
      "execution_count": null,
      "outputs": [
        {
          "output_type": "execute_result",
          "data": {
            "text/plain": [
              "DecisionTreeClassifier(random_state=42)"
            ],
            "text/html": [
              "<style>#sk-container-id-1 {color: black;background-color: white;}#sk-container-id-1 pre{padding: 0;}#sk-container-id-1 div.sk-toggleable {background-color: white;}#sk-container-id-1 label.sk-toggleable__label {cursor: pointer;display: block;width: 100%;margin-bottom: 0;padding: 0.3em;box-sizing: border-box;text-align: center;}#sk-container-id-1 label.sk-toggleable__label-arrow:before {content: \"▸\";float: left;margin-right: 0.25em;color: #696969;}#sk-container-id-1 label.sk-toggleable__label-arrow:hover:before {color: black;}#sk-container-id-1 div.sk-estimator:hover label.sk-toggleable__label-arrow:before {color: black;}#sk-container-id-1 div.sk-toggleable__content {max-height: 0;max-width: 0;overflow: hidden;text-align: left;background-color: #f0f8ff;}#sk-container-id-1 div.sk-toggleable__content pre {margin: 0.2em;color: black;border-radius: 0.25em;background-color: #f0f8ff;}#sk-container-id-1 input.sk-toggleable__control:checked~div.sk-toggleable__content {max-height: 200px;max-width: 100%;overflow: auto;}#sk-container-id-1 input.sk-toggleable__control:checked~label.sk-toggleable__label-arrow:before {content: \"▾\";}#sk-container-id-1 div.sk-estimator input.sk-toggleable__control:checked~label.sk-toggleable__label {background-color: #d4ebff;}#sk-container-id-1 div.sk-label input.sk-toggleable__control:checked~label.sk-toggleable__label {background-color: #d4ebff;}#sk-container-id-1 input.sk-hidden--visually {border: 0;clip: rect(1px 1px 1px 1px);clip: rect(1px, 1px, 1px, 1px);height: 1px;margin: -1px;overflow: hidden;padding: 0;position: absolute;width: 1px;}#sk-container-id-1 div.sk-estimator {font-family: monospace;background-color: #f0f8ff;border: 1px dotted black;border-radius: 0.25em;box-sizing: border-box;margin-bottom: 0.5em;}#sk-container-id-1 div.sk-estimator:hover {background-color: #d4ebff;}#sk-container-id-1 div.sk-parallel-item::after {content: \"\";width: 100%;border-bottom: 1px solid gray;flex-grow: 1;}#sk-container-id-1 div.sk-label:hover label.sk-toggleable__label {background-color: #d4ebff;}#sk-container-id-1 div.sk-serial::before {content: \"\";position: absolute;border-left: 1px solid gray;box-sizing: border-box;top: 0;bottom: 0;left: 50%;z-index: 0;}#sk-container-id-1 div.sk-serial {display: flex;flex-direction: column;align-items: center;background-color: white;padding-right: 0.2em;padding-left: 0.2em;position: relative;}#sk-container-id-1 div.sk-item {position: relative;z-index: 1;}#sk-container-id-1 div.sk-parallel {display: flex;align-items: stretch;justify-content: center;background-color: white;position: relative;}#sk-container-id-1 div.sk-item::before, #sk-container-id-1 div.sk-parallel-item::before {content: \"\";position: absolute;border-left: 1px solid gray;box-sizing: border-box;top: 0;bottom: 0;left: 50%;z-index: -1;}#sk-container-id-1 div.sk-parallel-item {display: flex;flex-direction: column;z-index: 1;position: relative;background-color: white;}#sk-container-id-1 div.sk-parallel-item:first-child::after {align-self: flex-end;width: 50%;}#sk-container-id-1 div.sk-parallel-item:last-child::after {align-self: flex-start;width: 50%;}#sk-container-id-1 div.sk-parallel-item:only-child::after {width: 0;}#sk-container-id-1 div.sk-dashed-wrapped {border: 1px dashed gray;margin: 0 0.4em 0.5em 0.4em;box-sizing: border-box;padding-bottom: 0.4em;background-color: white;}#sk-container-id-1 div.sk-label label {font-family: monospace;font-weight: bold;display: inline-block;line-height: 1.2em;}#sk-container-id-1 div.sk-label-container {text-align: center;}#sk-container-id-1 div.sk-container {/* jupyter's `normalize.less` sets `[hidden] { display: none; }` but bootstrap.min.css set `[hidden] { display: none !important; }` so we also need the `!important` here to be able to override the default hidden behavior on the sphinx rendered scikit-learn.org. See: https://github.com/scikit-learn/scikit-learn/issues/21755 */display: inline-block !important;position: relative;}#sk-container-id-1 div.sk-text-repr-fallback {display: none;}</style><div id=\"sk-container-id-1\" class=\"sk-top-container\"><div class=\"sk-text-repr-fallback\"><pre>DecisionTreeClassifier(random_state=42)</pre><b>In a Jupyter environment, please rerun this cell to show the HTML representation or trust the notebook. <br />On GitHub, the HTML representation is unable to render, please try loading this page with nbviewer.org.</b></div><div class=\"sk-container\" hidden><div class=\"sk-item\"><div class=\"sk-estimator sk-toggleable\"><input class=\"sk-toggleable__control sk-hidden--visually\" id=\"sk-estimator-id-1\" type=\"checkbox\" checked><label for=\"sk-estimator-id-1\" class=\"sk-toggleable__label sk-toggleable__label-arrow\">DecisionTreeClassifier</label><div class=\"sk-toggleable__content\"><pre>DecisionTreeClassifier(random_state=42)</pre></div></div></div></div></div>"
            ]
          },
          "metadata": {},
          "execution_count": 30
        }
      ]
    },
    {
      "cell_type": "code",
      "source": [
        "# Make predictions on the train & test set\n",
        "y_pred3 = decision_model.predict(X_train)\n",
        "y_pred4 = decision_model.predict(X_test)\n",
        "\n",
        "# Evaluate the model on the train set\n",
        "print(\"\\nTrain Set Evaluation:\")\n",
        "print(classification_report(y_train, y_pred3))\n",
        "# Evaluate the model on the test set\n",
        "print(\"\\nTest Set Evaluation:\")\n",
        "print(classification_report(y_test, y_pred4))"
      ],
      "metadata": {
        "colab": {
          "base_uri": "https://localhost:8080/"
        },
        "id": "MWc8KQowz9jO",
        "outputId": "e5afe996-18f1-4ab2-8a77-f72044302101"
      },
      "execution_count": null,
      "outputs": [
        {
          "output_type": "stream",
          "name": "stdout",
          "text": [
            "\n",
            "Train Set Evaluation:\n",
            "              precision    recall  f1-score   support\n",
            "\n",
            "           0       1.00      1.00      1.00       286\n",
            "           1       1.00      1.00      1.00       264\n",
            "\n",
            "    accuracy                           1.00       550\n",
            "   macro avg       1.00      1.00      1.00       550\n",
            "weighted avg       1.00      1.00      1.00       550\n",
            "\n",
            "\n",
            "Test Set Evaluation:\n",
            "              precision    recall  f1-score   support\n",
            "\n",
            "           0       0.97      1.00      0.98        58\n",
            "           1       1.00      0.97      0.99        80\n",
            "\n",
            "    accuracy                           0.99       138\n",
            "   macro avg       0.98      0.99      0.99       138\n",
            "weighted avg       0.99      0.99      0.99       138\n",
            "\n"
          ]
        }
      ]
    },
    {
      "cell_type": "code",
      "source": [
        "# Save the decision tree model weights\n",
        "joblib.dump(decision_model, 'decision_model_weights.joblib')"
      ],
      "metadata": {
        "id": "go79Huu_3Sb1",
        "colab": {
          "base_uri": "https://localhost:8080/"
        },
        "outputId": "bd216f4d-63ab-4c7a-a28d-9018e9039f3a"
      },
      "execution_count": null,
      "outputs": [
        {
          "output_type": "execute_result",
          "data": {
            "text/plain": [
              "['decision_model_weights.joblib']"
            ]
          },
          "metadata": {},
          "execution_count": 32
        }
      ]
    },
    {
      "cell_type": "code",
      "source": [
        "# Load the kNN model weights (for demonstration purposes)\n",
        "loaded_decision_model = joblib.load('decision_model_weights.joblib')"
      ],
      "metadata": {
        "id": "kVFrbgFf3ldF"
      },
      "execution_count": null,
      "outputs": []
    },
    {
      "cell_type": "code",
      "source": [
        "# Create an SVM model\n",
        "SVM_model = SVC(kernel='linear', C=1.0, random_state=42)"
      ],
      "metadata": {
        "id": "9uPrzwkTix0P"
      },
      "execution_count": null,
      "outputs": []
    },
    {
      "cell_type": "code",
      "source": [
        "# Apply cross-validation\n",
        "cv_score3 = cross_val_score(SVM_model, X_numeric, y_resampled, cv=5, scoring='accuracy')"
      ],
      "metadata": {
        "id": "OxWWsAIwi6gR"
      },
      "execution_count": null,
      "outputs": []
    },
    {
      "cell_type": "code",
      "source": [
        "# Display cross-validation scores\n",
        "print(\"Cross-validation scores:\", cv_score3)\n",
        "print(\"Mean accuracy:\", np.mean(cv_score3))"
      ],
      "metadata": {
        "colab": {
          "base_uri": "https://localhost:8080/"
        },
        "id": "iV7n9HXRjCV0",
        "outputId": "c8285d6e-2078-436c-f245-1fd907187b54"
      },
      "execution_count": null,
      "outputs": [
        {
          "output_type": "stream",
          "name": "stdout",
          "text": [
            "Cross-validation scores: [1. 1. 1. 1. 1.]\n",
            "Mean accuracy: 1.0\n"
          ]
        }
      ]
    },
    {
      "cell_type": "code",
      "source": [
        "SVM_model.fit(X_train, y_train)"
      ],
      "metadata": {
        "colab": {
          "base_uri": "https://localhost:8080/",
          "height": 74
        },
        "id": "RZU9LCYTjHQY",
        "outputId": "231acf88-44d8-4947-912e-6e8dd16d8296"
      },
      "execution_count": null,
      "outputs": [
        {
          "output_type": "execute_result",
          "data": {
            "text/plain": [
              "SVC(kernel='linear', random_state=42)"
            ],
            "text/html": [
              "<style>#sk-container-id-2 {color: black;background-color: white;}#sk-container-id-2 pre{padding: 0;}#sk-container-id-2 div.sk-toggleable {background-color: white;}#sk-container-id-2 label.sk-toggleable__label {cursor: pointer;display: block;width: 100%;margin-bottom: 0;padding: 0.3em;box-sizing: border-box;text-align: center;}#sk-container-id-2 label.sk-toggleable__label-arrow:before {content: \"▸\";float: left;margin-right: 0.25em;color: #696969;}#sk-container-id-2 label.sk-toggleable__label-arrow:hover:before {color: black;}#sk-container-id-2 div.sk-estimator:hover label.sk-toggleable__label-arrow:before {color: black;}#sk-container-id-2 div.sk-toggleable__content {max-height: 0;max-width: 0;overflow: hidden;text-align: left;background-color: #f0f8ff;}#sk-container-id-2 div.sk-toggleable__content pre {margin: 0.2em;color: black;border-radius: 0.25em;background-color: #f0f8ff;}#sk-container-id-2 input.sk-toggleable__control:checked~div.sk-toggleable__content {max-height: 200px;max-width: 100%;overflow: auto;}#sk-container-id-2 input.sk-toggleable__control:checked~label.sk-toggleable__label-arrow:before {content: \"▾\";}#sk-container-id-2 div.sk-estimator input.sk-toggleable__control:checked~label.sk-toggleable__label {background-color: #d4ebff;}#sk-container-id-2 div.sk-label input.sk-toggleable__control:checked~label.sk-toggleable__label {background-color: #d4ebff;}#sk-container-id-2 input.sk-hidden--visually {border: 0;clip: rect(1px 1px 1px 1px);clip: rect(1px, 1px, 1px, 1px);height: 1px;margin: -1px;overflow: hidden;padding: 0;position: absolute;width: 1px;}#sk-container-id-2 div.sk-estimator {font-family: monospace;background-color: #f0f8ff;border: 1px dotted black;border-radius: 0.25em;box-sizing: border-box;margin-bottom: 0.5em;}#sk-container-id-2 div.sk-estimator:hover {background-color: #d4ebff;}#sk-container-id-2 div.sk-parallel-item::after {content: \"\";width: 100%;border-bottom: 1px solid gray;flex-grow: 1;}#sk-container-id-2 div.sk-label:hover label.sk-toggleable__label {background-color: #d4ebff;}#sk-container-id-2 div.sk-serial::before {content: \"\";position: absolute;border-left: 1px solid gray;box-sizing: border-box;top: 0;bottom: 0;left: 50%;z-index: 0;}#sk-container-id-2 div.sk-serial {display: flex;flex-direction: column;align-items: center;background-color: white;padding-right: 0.2em;padding-left: 0.2em;position: relative;}#sk-container-id-2 div.sk-item {position: relative;z-index: 1;}#sk-container-id-2 div.sk-parallel {display: flex;align-items: stretch;justify-content: center;background-color: white;position: relative;}#sk-container-id-2 div.sk-item::before, #sk-container-id-2 div.sk-parallel-item::before {content: \"\";position: absolute;border-left: 1px solid gray;box-sizing: border-box;top: 0;bottom: 0;left: 50%;z-index: -1;}#sk-container-id-2 div.sk-parallel-item {display: flex;flex-direction: column;z-index: 1;position: relative;background-color: white;}#sk-container-id-2 div.sk-parallel-item:first-child::after {align-self: flex-end;width: 50%;}#sk-container-id-2 div.sk-parallel-item:last-child::after {align-self: flex-start;width: 50%;}#sk-container-id-2 div.sk-parallel-item:only-child::after {width: 0;}#sk-container-id-2 div.sk-dashed-wrapped {border: 1px dashed gray;margin: 0 0.4em 0.5em 0.4em;box-sizing: border-box;padding-bottom: 0.4em;background-color: white;}#sk-container-id-2 div.sk-label label {font-family: monospace;font-weight: bold;display: inline-block;line-height: 1.2em;}#sk-container-id-2 div.sk-label-container {text-align: center;}#sk-container-id-2 div.sk-container {/* jupyter's `normalize.less` sets `[hidden] { display: none; }` but bootstrap.min.css set `[hidden] { display: none !important; }` so we also need the `!important` here to be able to override the default hidden behavior on the sphinx rendered scikit-learn.org. See: https://github.com/scikit-learn/scikit-learn/issues/21755 */display: inline-block !important;position: relative;}#sk-container-id-2 div.sk-text-repr-fallback {display: none;}</style><div id=\"sk-container-id-2\" class=\"sk-top-container\"><div class=\"sk-text-repr-fallback\"><pre>SVC(kernel=&#x27;linear&#x27;, random_state=42)</pre><b>In a Jupyter environment, please rerun this cell to show the HTML representation or trust the notebook. <br />On GitHub, the HTML representation is unable to render, please try loading this page with nbviewer.org.</b></div><div class=\"sk-container\" hidden><div class=\"sk-item\"><div class=\"sk-estimator sk-toggleable\"><input class=\"sk-toggleable__control sk-hidden--visually\" id=\"sk-estimator-id-2\" type=\"checkbox\" checked><label for=\"sk-estimator-id-2\" class=\"sk-toggleable__label sk-toggleable__label-arrow\">SVC</label><div class=\"sk-toggleable__content\"><pre>SVC(kernel=&#x27;linear&#x27;, random_state=42)</pre></div></div></div></div></div>"
            ]
          },
          "metadata": {},
          "execution_count": 37
        }
      ]
    },
    {
      "cell_type": "code",
      "source": [
        "joblib.dump(SVM_model, 'SVM_model_weights.joblib')"
      ],
      "metadata": {
        "colab": {
          "base_uri": "https://localhost:8080/"
        },
        "id": "ycPER5aQjsGZ",
        "outputId": "c4db54e8-d8c3-4d19-e2cd-efca59779773"
      },
      "execution_count": null,
      "outputs": [
        {
          "output_type": "execute_result",
          "data": {
            "text/plain": [
              "['SVM_model_weights.joblib']"
            ]
          },
          "metadata": {},
          "execution_count": 38
        }
      ]
    },
    {
      "cell_type": "code",
      "source": [
        "loaded_SVM_model = joblib.load('SVM_model_weights.joblib')"
      ],
      "metadata": {
        "id": "11yUJKqVj1dL"
      },
      "execution_count": null,
      "outputs": []
    },
    {
      "cell_type": "code",
      "source": [
        "# Make predictions on the train & test set\n",
        "y_pred5 = SVM_model.predict(X_train)\n",
        "y_pred6 = SVM_model.predict(X_test)\n",
        "\n",
        "# Evaluate the model on the train set\n",
        "print(\"\\nTrain Set Evaluation:\")\n",
        "print(classification_report(y_train, y_pred5))\n",
        "# Evaluate the model on the test set\n",
        "print(\"\\nTest Set Evaluation:\")\n",
        "print(classification_report(y_test, y_pred6))"
      ],
      "metadata": {
        "colab": {
          "base_uri": "https://localhost:8080/"
        },
        "id": "0GTA-PibjLi_",
        "outputId": "a8afb2b0-17b9-44f2-d666-432c4dfae905"
      },
      "execution_count": null,
      "outputs": [
        {
          "output_type": "stream",
          "name": "stdout",
          "text": [
            "\n",
            "Train Set Evaluation:\n",
            "              precision    recall  f1-score   support\n",
            "\n",
            "           0       1.00      1.00      1.00       286\n",
            "           1       1.00      1.00      1.00       264\n",
            "\n",
            "    accuracy                           1.00       550\n",
            "   macro avg       1.00      1.00      1.00       550\n",
            "weighted avg       1.00      1.00      1.00       550\n",
            "\n",
            "\n",
            "Test Set Evaluation:\n",
            "              precision    recall  f1-score   support\n",
            "\n",
            "           0       1.00      1.00      1.00        58\n",
            "           1       1.00      1.00      1.00        80\n",
            "\n",
            "    accuracy                           1.00       138\n",
            "   macro avg       1.00      1.00      1.00       138\n",
            "weighted avg       1.00      1.00      1.00       138\n",
            "\n"
          ]
        }
      ]
    },
    {
      "cell_type": "code",
      "source": [
        "# Initialize Gaussian Naive Bayes classifier\n",
        "nb_model = GaussianNB()\n"
      ],
      "metadata": {
        "id": "RHxk8cLICIRs"
      },
      "execution_count": null,
      "outputs": []
    },
    {
      "cell_type": "code",
      "source": [
        "# Apply cross-validation\n",
        "cv_score4 = cross_val_score(nb_model, X_numeric, y_resampled, cv=5, scoring='accuracy')"
      ],
      "metadata": {
        "id": "fKGmp8lYqvDf"
      },
      "execution_count": null,
      "outputs": []
    },
    {
      "cell_type": "code",
      "source": [
        "# Display cross-validation scores\n",
        "print(\"Cross-validation scores:\", cv_score4)\n",
        "print(\"Mean accuracy:\", np.mean(cv_score4))"
      ],
      "metadata": {
        "colab": {
          "base_uri": "https://localhost:8080/"
        },
        "outputId": "4d6b2aa9-2012-4fd1-813f-11abafdd1f4e",
        "id": "EeLwNAGbrCrk"
      },
      "execution_count": null,
      "outputs": [
        {
          "output_type": "stream",
          "name": "stdout",
          "text": [
            "Cross-validation scores: [1.         1.         0.97101449 1.         1.        ]\n",
            "Mean accuracy: 0.9942028985507246\n"
          ]
        }
      ]
    },
    {
      "cell_type": "code",
      "source": [
        "nb_model.fit(X_train, y_train)"
      ],
      "metadata": {
        "colab": {
          "base_uri": "https://localhost:8080/",
          "height": 74
        },
        "id": "JJ3T_9RSrPky",
        "outputId": "81bb8a06-2429-4218-ef91-9a0c429c5a79"
      },
      "execution_count": null,
      "outputs": [
        {
          "output_type": "execute_result",
          "data": {
            "text/plain": [
              "GaussianNB()"
            ],
            "text/html": [
              "<style>#sk-container-id-3 {color: black;background-color: white;}#sk-container-id-3 pre{padding: 0;}#sk-container-id-3 div.sk-toggleable {background-color: white;}#sk-container-id-3 label.sk-toggleable__label {cursor: pointer;display: block;width: 100%;margin-bottom: 0;padding: 0.3em;box-sizing: border-box;text-align: center;}#sk-container-id-3 label.sk-toggleable__label-arrow:before {content: \"▸\";float: left;margin-right: 0.25em;color: #696969;}#sk-container-id-3 label.sk-toggleable__label-arrow:hover:before {color: black;}#sk-container-id-3 div.sk-estimator:hover label.sk-toggleable__label-arrow:before {color: black;}#sk-container-id-3 div.sk-toggleable__content {max-height: 0;max-width: 0;overflow: hidden;text-align: left;background-color: #f0f8ff;}#sk-container-id-3 div.sk-toggleable__content pre {margin: 0.2em;color: black;border-radius: 0.25em;background-color: #f0f8ff;}#sk-container-id-3 input.sk-toggleable__control:checked~div.sk-toggleable__content {max-height: 200px;max-width: 100%;overflow: auto;}#sk-container-id-3 input.sk-toggleable__control:checked~label.sk-toggleable__label-arrow:before {content: \"▾\";}#sk-container-id-3 div.sk-estimator input.sk-toggleable__control:checked~label.sk-toggleable__label {background-color: #d4ebff;}#sk-container-id-3 div.sk-label input.sk-toggleable__control:checked~label.sk-toggleable__label {background-color: #d4ebff;}#sk-container-id-3 input.sk-hidden--visually {border: 0;clip: rect(1px 1px 1px 1px);clip: rect(1px, 1px, 1px, 1px);height: 1px;margin: -1px;overflow: hidden;padding: 0;position: absolute;width: 1px;}#sk-container-id-3 div.sk-estimator {font-family: monospace;background-color: #f0f8ff;border: 1px dotted black;border-radius: 0.25em;box-sizing: border-box;margin-bottom: 0.5em;}#sk-container-id-3 div.sk-estimator:hover {background-color: #d4ebff;}#sk-container-id-3 div.sk-parallel-item::after {content: \"\";width: 100%;border-bottom: 1px solid gray;flex-grow: 1;}#sk-container-id-3 div.sk-label:hover label.sk-toggleable__label {background-color: #d4ebff;}#sk-container-id-3 div.sk-serial::before {content: \"\";position: absolute;border-left: 1px solid gray;box-sizing: border-box;top: 0;bottom: 0;left: 50%;z-index: 0;}#sk-container-id-3 div.sk-serial {display: flex;flex-direction: column;align-items: center;background-color: white;padding-right: 0.2em;padding-left: 0.2em;position: relative;}#sk-container-id-3 div.sk-item {position: relative;z-index: 1;}#sk-container-id-3 div.sk-parallel {display: flex;align-items: stretch;justify-content: center;background-color: white;position: relative;}#sk-container-id-3 div.sk-item::before, #sk-container-id-3 div.sk-parallel-item::before {content: \"\";position: absolute;border-left: 1px solid gray;box-sizing: border-box;top: 0;bottom: 0;left: 50%;z-index: -1;}#sk-container-id-3 div.sk-parallel-item {display: flex;flex-direction: column;z-index: 1;position: relative;background-color: white;}#sk-container-id-3 div.sk-parallel-item:first-child::after {align-self: flex-end;width: 50%;}#sk-container-id-3 div.sk-parallel-item:last-child::after {align-self: flex-start;width: 50%;}#sk-container-id-3 div.sk-parallel-item:only-child::after {width: 0;}#sk-container-id-3 div.sk-dashed-wrapped {border: 1px dashed gray;margin: 0 0.4em 0.5em 0.4em;box-sizing: border-box;padding-bottom: 0.4em;background-color: white;}#sk-container-id-3 div.sk-label label {font-family: monospace;font-weight: bold;display: inline-block;line-height: 1.2em;}#sk-container-id-3 div.sk-label-container {text-align: center;}#sk-container-id-3 div.sk-container {/* jupyter's `normalize.less` sets `[hidden] { display: none; }` but bootstrap.min.css set `[hidden] { display: none !important; }` so we also need the `!important` here to be able to override the default hidden behavior on the sphinx rendered scikit-learn.org. See: https://github.com/scikit-learn/scikit-learn/issues/21755 */display: inline-block !important;position: relative;}#sk-container-id-3 div.sk-text-repr-fallback {display: none;}</style><div id=\"sk-container-id-3\" class=\"sk-top-container\"><div class=\"sk-text-repr-fallback\"><pre>GaussianNB()</pre><b>In a Jupyter environment, please rerun this cell to show the HTML representation or trust the notebook. <br />On GitHub, the HTML representation is unable to render, please try loading this page with nbviewer.org.</b></div><div class=\"sk-container\" hidden><div class=\"sk-item\"><div class=\"sk-estimator sk-toggleable\"><input class=\"sk-toggleable__control sk-hidden--visually\" id=\"sk-estimator-id-3\" type=\"checkbox\" checked><label for=\"sk-estimator-id-3\" class=\"sk-toggleable__label sk-toggleable__label-arrow\">GaussianNB</label><div class=\"sk-toggleable__content\"><pre>GaussianNB()</pre></div></div></div></div></div>"
            ]
          },
          "metadata": {},
          "execution_count": 44
        }
      ]
    },
    {
      "cell_type": "code",
      "source": [
        "# Save the decision tree model weights\n",
        "joblib.dump(nb_model, 'nb_model_weights.joblib')"
      ],
      "metadata": {
        "colab": {
          "base_uri": "https://localhost:8080/"
        },
        "id": "w56oXpFDd7S0",
        "outputId": "8f6a536d-7bbd-4722-d7d9-71aecb731636"
      },
      "execution_count": null,
      "outputs": [
        {
          "output_type": "execute_result",
          "data": {
            "text/plain": [
              "['nb_model_weights.joblib']"
            ]
          },
          "metadata": {},
          "execution_count": 45
        }
      ]
    },
    {
      "cell_type": "code",
      "source": [
        "# Load the kNN model weights (for demonstration purposes)\n",
        "loaded_nb_model = joblib.load('nb_model_weights.joblib')"
      ],
      "metadata": {
        "id": "G3BQ1wvEeD2P"
      },
      "execution_count": null,
      "outputs": []
    },
    {
      "cell_type": "code",
      "source": [
        "# Make predictions on the train & test set\n",
        "y_pred7 = nb_model.predict(X_train)\n",
        "y_pred8 = nb_model.predict(X_test)\n",
        "\n",
        "# Evaluate the model on the train set\n",
        "print(\"\\nTrain Set Evaluation:\")\n",
        "print(classification_report(y_train, y_pred7))\n",
        "# Evaluate the model on the test set\n",
        "print(\"\\nTest Set Evaluation:\")\n",
        "print(classification_report(y_test, y_pred8))"
      ],
      "metadata": {
        "colab": {
          "base_uri": "https://localhost:8080/"
        },
        "id": "gsvBML9SdkcQ",
        "outputId": "9e595f5f-aa81-4aee-83ae-0b0d86de4796"
      },
      "execution_count": null,
      "outputs": [
        {
          "output_type": "stream",
          "name": "stdout",
          "text": [
            "\n",
            "Train Set Evaluation:\n",
            "              precision    recall  f1-score   support\n",
            "\n",
            "           0       1.00      1.00      1.00       286\n",
            "           1       1.00      1.00      1.00       264\n",
            "\n",
            "    accuracy                           1.00       550\n",
            "   macro avg       1.00      1.00      1.00       550\n",
            "weighted avg       1.00      1.00      1.00       550\n",
            "\n",
            "\n",
            "Test Set Evaluation:\n",
            "              precision    recall  f1-score   support\n",
            "\n",
            "           0       1.00      1.00      1.00        58\n",
            "           1       1.00      1.00      1.00        80\n",
            "\n",
            "    accuracy                           1.00       138\n",
            "   macro avg       1.00      1.00      1.00       138\n",
            "weighted avg       1.00      1.00      1.00       138\n",
            "\n"
          ]
        }
      ]
    },
    {
      "cell_type": "code",
      "source": [
        "# Initialize Random Forest classifier\n",
        "rf_model = RandomForestClassifier(n_estimators=100, random_state=42)"
      ],
      "metadata": {
        "id": "ww8izSlbEpVw"
      },
      "execution_count": null,
      "outputs": []
    },
    {
      "cell_type": "code",
      "source": [
        "# Apply cross-validation\n",
        "cv_score5 = cross_val_score(rf_model, X_numeric, y_resampled, cv=5, scoring='accuracy')"
      ],
      "metadata": {
        "id": "r_lGlNDsr_h6"
      },
      "execution_count": null,
      "outputs": []
    },
    {
      "cell_type": "code",
      "source": [
        "# Display cross-validation scores\n",
        "print(\"Cross-validation scores:\", cv_score5)\n",
        "print(\"Mean accuracy:\", np.mean(cv_score5))"
      ],
      "metadata": {
        "colab": {
          "base_uri": "https://localhost:8080/"
        },
        "id": "7m4pdHmcsLyA",
        "outputId": "bbfbe5ca-ddcb-4075-874b-20da9ddbcd8c"
      },
      "execution_count": null,
      "outputs": [
        {
          "output_type": "stream",
          "name": "stdout",
          "text": [
            "Cross-validation scores: [1. 1. 1. 1. 1.]\n",
            "Mean accuracy: 1.0\n"
          ]
        }
      ]
    },
    {
      "cell_type": "code",
      "source": [
        "# Train the model\n",
        "rf_model.fit(X_train, y_train)"
      ],
      "metadata": {
        "colab": {
          "base_uri": "https://localhost:8080/",
          "height": 74
        },
        "id": "KWtyY50EhCc4",
        "outputId": "e14f7060-77a9-4015-eefc-e9ab9041c2dd"
      },
      "execution_count": null,
      "outputs": [
        {
          "output_type": "execute_result",
          "data": {
            "text/plain": [
              "RandomForestClassifier(random_state=42)"
            ],
            "text/html": [
              "<style>#sk-container-id-4 {color: black;background-color: white;}#sk-container-id-4 pre{padding: 0;}#sk-container-id-4 div.sk-toggleable {background-color: white;}#sk-container-id-4 label.sk-toggleable__label {cursor: pointer;display: block;width: 100%;margin-bottom: 0;padding: 0.3em;box-sizing: border-box;text-align: center;}#sk-container-id-4 label.sk-toggleable__label-arrow:before {content: \"▸\";float: left;margin-right: 0.25em;color: #696969;}#sk-container-id-4 label.sk-toggleable__label-arrow:hover:before {color: black;}#sk-container-id-4 div.sk-estimator:hover label.sk-toggleable__label-arrow:before {color: black;}#sk-container-id-4 div.sk-toggleable__content {max-height: 0;max-width: 0;overflow: hidden;text-align: left;background-color: #f0f8ff;}#sk-container-id-4 div.sk-toggleable__content pre {margin: 0.2em;color: black;border-radius: 0.25em;background-color: #f0f8ff;}#sk-container-id-4 input.sk-toggleable__control:checked~div.sk-toggleable__content {max-height: 200px;max-width: 100%;overflow: auto;}#sk-container-id-4 input.sk-toggleable__control:checked~label.sk-toggleable__label-arrow:before {content: \"▾\";}#sk-container-id-4 div.sk-estimator input.sk-toggleable__control:checked~label.sk-toggleable__label {background-color: #d4ebff;}#sk-container-id-4 div.sk-label input.sk-toggleable__control:checked~label.sk-toggleable__label {background-color: #d4ebff;}#sk-container-id-4 input.sk-hidden--visually {border: 0;clip: rect(1px 1px 1px 1px);clip: rect(1px, 1px, 1px, 1px);height: 1px;margin: -1px;overflow: hidden;padding: 0;position: absolute;width: 1px;}#sk-container-id-4 div.sk-estimator {font-family: monospace;background-color: #f0f8ff;border: 1px dotted black;border-radius: 0.25em;box-sizing: border-box;margin-bottom: 0.5em;}#sk-container-id-4 div.sk-estimator:hover {background-color: #d4ebff;}#sk-container-id-4 div.sk-parallel-item::after {content: \"\";width: 100%;border-bottom: 1px solid gray;flex-grow: 1;}#sk-container-id-4 div.sk-label:hover label.sk-toggleable__label {background-color: #d4ebff;}#sk-container-id-4 div.sk-serial::before {content: \"\";position: absolute;border-left: 1px solid gray;box-sizing: border-box;top: 0;bottom: 0;left: 50%;z-index: 0;}#sk-container-id-4 div.sk-serial {display: flex;flex-direction: column;align-items: center;background-color: white;padding-right: 0.2em;padding-left: 0.2em;position: relative;}#sk-container-id-4 div.sk-item {position: relative;z-index: 1;}#sk-container-id-4 div.sk-parallel {display: flex;align-items: stretch;justify-content: center;background-color: white;position: relative;}#sk-container-id-4 div.sk-item::before, #sk-container-id-4 div.sk-parallel-item::before {content: \"\";position: absolute;border-left: 1px solid gray;box-sizing: border-box;top: 0;bottom: 0;left: 50%;z-index: -1;}#sk-container-id-4 div.sk-parallel-item {display: flex;flex-direction: column;z-index: 1;position: relative;background-color: white;}#sk-container-id-4 div.sk-parallel-item:first-child::after {align-self: flex-end;width: 50%;}#sk-container-id-4 div.sk-parallel-item:last-child::after {align-self: flex-start;width: 50%;}#sk-container-id-4 div.sk-parallel-item:only-child::after {width: 0;}#sk-container-id-4 div.sk-dashed-wrapped {border: 1px dashed gray;margin: 0 0.4em 0.5em 0.4em;box-sizing: border-box;padding-bottom: 0.4em;background-color: white;}#sk-container-id-4 div.sk-label label {font-family: monospace;font-weight: bold;display: inline-block;line-height: 1.2em;}#sk-container-id-4 div.sk-label-container {text-align: center;}#sk-container-id-4 div.sk-container {/* jupyter's `normalize.less` sets `[hidden] { display: none; }` but bootstrap.min.css set `[hidden] { display: none !important; }` so we also need the `!important` here to be able to override the default hidden behavior on the sphinx rendered scikit-learn.org. See: https://github.com/scikit-learn/scikit-learn/issues/21755 */display: inline-block !important;position: relative;}#sk-container-id-4 div.sk-text-repr-fallback {display: none;}</style><div id=\"sk-container-id-4\" class=\"sk-top-container\"><div class=\"sk-text-repr-fallback\"><pre>RandomForestClassifier(random_state=42)</pre><b>In a Jupyter environment, please rerun this cell to show the HTML representation or trust the notebook. <br />On GitHub, the HTML representation is unable to render, please try loading this page with nbviewer.org.</b></div><div class=\"sk-container\" hidden><div class=\"sk-item\"><div class=\"sk-estimator sk-toggleable\"><input class=\"sk-toggleable__control sk-hidden--visually\" id=\"sk-estimator-id-4\" type=\"checkbox\" checked><label for=\"sk-estimator-id-4\" class=\"sk-toggleable__label sk-toggleable__label-arrow\">RandomForestClassifier</label><div class=\"sk-toggleable__content\"><pre>RandomForestClassifier(random_state=42)</pre></div></div></div></div></div>"
            ]
          },
          "metadata": {},
          "execution_count": 51
        }
      ]
    },
    {
      "cell_type": "code",
      "source": [
        "# Save the random forest model weights\n",
        "joblib.dump(rf_model, 'rf_model_weights.joblib')"
      ],
      "metadata": {
        "colab": {
          "base_uri": "https://localhost:8080/"
        },
        "id": "vA12b3S4eHWi",
        "outputId": "144f5b14-1cdc-46de-a9d7-c8b1abdd57c5"
      },
      "execution_count": null,
      "outputs": [
        {
          "output_type": "execute_result",
          "data": {
            "text/plain": [
              "['rf_model_weights.joblib']"
            ]
          },
          "metadata": {},
          "execution_count": 52
        }
      ]
    },
    {
      "cell_type": "code",
      "source": [
        "# Load the kNN model weights (for demonstration purposes)\n",
        "rf_model = joblib.load('rf_model_weights.joblib')"
      ],
      "metadata": {
        "id": "liafsEjDeV0t"
      },
      "execution_count": null,
      "outputs": []
    },
    {
      "cell_type": "code",
      "source": [
        "# Make predictions on the train & test set\n",
        "y_pred9 = rf_model.predict(X_train)\n",
        "y_pred10 = rf_model.predict(X_test)\n",
        "\n",
        "# Evaluate the model on the train set\n",
        "print(\"\\nTrain Set Evaluation:\")\n",
        "print(classification_report(y_train, y_pred9))\n",
        "# Evaluate the model on the test set\n",
        "print(\"\\nTest Set Evaluation:\")\n",
        "print(classification_report(y_test, y_pred10))"
      ],
      "metadata": {
        "colab": {
          "base_uri": "https://localhost:8080/"
        },
        "id": "iWODVxm2guO4",
        "outputId": "4dcf9cc1-96c6-4294-fbfa-19302e1016c2"
      },
      "execution_count": null,
      "outputs": [
        {
          "output_type": "stream",
          "name": "stdout",
          "text": [
            "\n",
            "Train Set Evaluation:\n",
            "              precision    recall  f1-score   support\n",
            "\n",
            "           0       1.00      1.00      1.00       286\n",
            "           1       1.00      1.00      1.00       264\n",
            "\n",
            "    accuracy                           1.00       550\n",
            "   macro avg       1.00      1.00      1.00       550\n",
            "weighted avg       1.00      1.00      1.00       550\n",
            "\n",
            "\n",
            "Test Set Evaluation:\n",
            "              precision    recall  f1-score   support\n",
            "\n",
            "           0       1.00      1.00      1.00        58\n",
            "           1       1.00      1.00      1.00        80\n",
            "\n",
            "    accuracy                           1.00       138\n",
            "   macro avg       1.00      1.00      1.00       138\n",
            "weighted avg       1.00      1.00      1.00       138\n",
            "\n"
          ]
        }
      ]
    },
    {
      "cell_type": "code",
      "source": [
        "# Initialize Logistic Regression model\n",
        "regression_model = LogisticRegression(random_state=42)\n"
      ],
      "metadata": {
        "id": "ZLnvTzlAFISo"
      },
      "execution_count": null,
      "outputs": []
    },
    {
      "cell_type": "code",
      "source": [
        "# Apply cross-validation\n",
        "cv_score6 = cross_val_score(regression_model, X_numeric, y_resampled, cv=5, scoring='accuracy')"
      ],
      "metadata": {
        "id": "kZIaHBX0tCKz"
      },
      "execution_count": null,
      "outputs": []
    },
    {
      "cell_type": "code",
      "source": [
        "# Display cross-validation scores\n",
        "print(\"Cross-validation scores:\", cv_score6)\n",
        "print(\"Mean accuracy:\", np.mean(cv_score6))"
      ],
      "metadata": {
        "colab": {
          "base_uri": "https://localhost:8080/"
        },
        "id": "14XXsqWntfY4",
        "outputId": "3fb6c4cb-ff82-4fb3-85d2-a73943d46c31"
      },
      "execution_count": null,
      "outputs": [
        {
          "output_type": "stream",
          "name": "stdout",
          "text": [
            "Cross-validation scores: [1. 1. 1. 1. 1.]\n",
            "Mean accuracy: 1.0\n"
          ]
        }
      ]
    },
    {
      "cell_type": "code",
      "source": [
        "regression_model.fit(X_train, y_train)"
      ],
      "metadata": {
        "colab": {
          "base_uri": "https://localhost:8080/",
          "height": 74
        },
        "id": "5MUpXDWeuIBD",
        "outputId": "d66dead3-31bc-4331-8269-9e38943958e7"
      },
      "execution_count": null,
      "outputs": [
        {
          "output_type": "execute_result",
          "data": {
            "text/plain": [
              "LogisticRegression(random_state=42)"
            ],
            "text/html": [
              "<style>#sk-container-id-5 {color: black;background-color: white;}#sk-container-id-5 pre{padding: 0;}#sk-container-id-5 div.sk-toggleable {background-color: white;}#sk-container-id-5 label.sk-toggleable__label {cursor: pointer;display: block;width: 100%;margin-bottom: 0;padding: 0.3em;box-sizing: border-box;text-align: center;}#sk-container-id-5 label.sk-toggleable__label-arrow:before {content: \"▸\";float: left;margin-right: 0.25em;color: #696969;}#sk-container-id-5 label.sk-toggleable__label-arrow:hover:before {color: black;}#sk-container-id-5 div.sk-estimator:hover label.sk-toggleable__label-arrow:before {color: black;}#sk-container-id-5 div.sk-toggleable__content {max-height: 0;max-width: 0;overflow: hidden;text-align: left;background-color: #f0f8ff;}#sk-container-id-5 div.sk-toggleable__content pre {margin: 0.2em;color: black;border-radius: 0.25em;background-color: #f0f8ff;}#sk-container-id-5 input.sk-toggleable__control:checked~div.sk-toggleable__content {max-height: 200px;max-width: 100%;overflow: auto;}#sk-container-id-5 input.sk-toggleable__control:checked~label.sk-toggleable__label-arrow:before {content: \"▾\";}#sk-container-id-5 div.sk-estimator input.sk-toggleable__control:checked~label.sk-toggleable__label {background-color: #d4ebff;}#sk-container-id-5 div.sk-label input.sk-toggleable__control:checked~label.sk-toggleable__label {background-color: #d4ebff;}#sk-container-id-5 input.sk-hidden--visually {border: 0;clip: rect(1px 1px 1px 1px);clip: rect(1px, 1px, 1px, 1px);height: 1px;margin: -1px;overflow: hidden;padding: 0;position: absolute;width: 1px;}#sk-container-id-5 div.sk-estimator {font-family: monospace;background-color: #f0f8ff;border: 1px dotted black;border-radius: 0.25em;box-sizing: border-box;margin-bottom: 0.5em;}#sk-container-id-5 div.sk-estimator:hover {background-color: #d4ebff;}#sk-container-id-5 div.sk-parallel-item::after {content: \"\";width: 100%;border-bottom: 1px solid gray;flex-grow: 1;}#sk-container-id-5 div.sk-label:hover label.sk-toggleable__label {background-color: #d4ebff;}#sk-container-id-5 div.sk-serial::before {content: \"\";position: absolute;border-left: 1px solid gray;box-sizing: border-box;top: 0;bottom: 0;left: 50%;z-index: 0;}#sk-container-id-5 div.sk-serial {display: flex;flex-direction: column;align-items: center;background-color: white;padding-right: 0.2em;padding-left: 0.2em;position: relative;}#sk-container-id-5 div.sk-item {position: relative;z-index: 1;}#sk-container-id-5 div.sk-parallel {display: flex;align-items: stretch;justify-content: center;background-color: white;position: relative;}#sk-container-id-5 div.sk-item::before, #sk-container-id-5 div.sk-parallel-item::before {content: \"\";position: absolute;border-left: 1px solid gray;box-sizing: border-box;top: 0;bottom: 0;left: 50%;z-index: -1;}#sk-container-id-5 div.sk-parallel-item {display: flex;flex-direction: column;z-index: 1;position: relative;background-color: white;}#sk-container-id-5 div.sk-parallel-item:first-child::after {align-self: flex-end;width: 50%;}#sk-container-id-5 div.sk-parallel-item:last-child::after {align-self: flex-start;width: 50%;}#sk-container-id-5 div.sk-parallel-item:only-child::after {width: 0;}#sk-container-id-5 div.sk-dashed-wrapped {border: 1px dashed gray;margin: 0 0.4em 0.5em 0.4em;box-sizing: border-box;padding-bottom: 0.4em;background-color: white;}#sk-container-id-5 div.sk-label label {font-family: monospace;font-weight: bold;display: inline-block;line-height: 1.2em;}#sk-container-id-5 div.sk-label-container {text-align: center;}#sk-container-id-5 div.sk-container {/* jupyter's `normalize.less` sets `[hidden] { display: none; }` but bootstrap.min.css set `[hidden] { display: none !important; }` so we also need the `!important` here to be able to override the default hidden behavior on the sphinx rendered scikit-learn.org. See: https://github.com/scikit-learn/scikit-learn/issues/21755 */display: inline-block !important;position: relative;}#sk-container-id-5 div.sk-text-repr-fallback {display: none;}</style><div id=\"sk-container-id-5\" class=\"sk-top-container\"><div class=\"sk-text-repr-fallback\"><pre>LogisticRegression(random_state=42)</pre><b>In a Jupyter environment, please rerun this cell to show the HTML representation or trust the notebook. <br />On GitHub, the HTML representation is unable to render, please try loading this page with nbviewer.org.</b></div><div class=\"sk-container\" hidden><div class=\"sk-item\"><div class=\"sk-estimator sk-toggleable\"><input class=\"sk-toggleable__control sk-hidden--visually\" id=\"sk-estimator-id-5\" type=\"checkbox\" checked><label for=\"sk-estimator-id-5\" class=\"sk-toggleable__label sk-toggleable__label-arrow\">LogisticRegression</label><div class=\"sk-toggleable__content\"><pre>LogisticRegression(random_state=42)</pre></div></div></div></div></div>"
            ]
          },
          "metadata": {},
          "execution_count": 58
        }
      ]
    },
    {
      "cell_type": "code",
      "source": [
        "# Save the decision tree model weights\n",
        "joblib.dump(regression_model, 'regression_model_weights.joblib')"
      ],
      "metadata": {
        "colab": {
          "base_uri": "https://localhost:8080/"
        },
        "id": "XhAE2cTyeJT_",
        "outputId": "5e45c5f0-873c-4b2a-97f3-66ab4116625e"
      },
      "execution_count": null,
      "outputs": [
        {
          "output_type": "execute_result",
          "data": {
            "text/plain": [
              "['regression_model_weights.joblib']"
            ]
          },
          "metadata": {},
          "execution_count": 59
        }
      ]
    },
    {
      "cell_type": "code",
      "source": [
        "# Load the kNN model weights (for demonstration purposes)\n",
        "loaded_decision_model = joblib.load('regression_model_weights.joblib')"
      ],
      "metadata": {
        "id": "LSgs2vrteYGd"
      },
      "execution_count": null,
      "outputs": []
    },
    {
      "cell_type": "code",
      "source": [
        "# Make predictions on the train & test set\n",
        "y_pred11 = regression_model.predict(X_train)\n",
        "y_pred12 = regression_model.predict(X_test)\n",
        "\n",
        "# Evaluate the model on the train set\n",
        "print(\"\\nTrain Set Evaluation:\")\n",
        "print(classification_report(y_train, y_pred11))\n",
        "# Evaluate the model on the test set\n",
        "print(\"\\nTest Set Evaluation:\")\n",
        "print(classification_report(y_test, y_pred12))"
      ],
      "metadata": {
        "colab": {
          "base_uri": "https://localhost:8080/"
        },
        "id": "OpdgMOy0hTnZ",
        "outputId": "30dca005-ba70-4cb0-ca31-d4108606b05c"
      },
      "execution_count": null,
      "outputs": [
        {
          "output_type": "stream",
          "name": "stdout",
          "text": [
            "\n",
            "Train Set Evaluation:\n",
            "              precision    recall  f1-score   support\n",
            "\n",
            "           0       1.00      1.00      1.00       286\n",
            "           1       1.00      1.00      1.00       264\n",
            "\n",
            "    accuracy                           1.00       550\n",
            "   macro avg       1.00      1.00      1.00       550\n",
            "weighted avg       1.00      1.00      1.00       550\n",
            "\n",
            "\n",
            "Test Set Evaluation:\n",
            "              precision    recall  f1-score   support\n",
            "\n",
            "           0       1.00      1.00      1.00        58\n",
            "           1       1.00      1.00      1.00        80\n",
            "\n",
            "    accuracy                           1.00       138\n",
            "   macro avg       1.00      1.00      1.00       138\n",
            "weighted avg       1.00      1.00      1.00       138\n",
            "\n"
          ]
        }
      ]
    },
    {
      "cell_type": "code",
      "source": [
        "# Plotting the confusion matrix\n",
        "cm = confusion_matrix(y_test, y_pred12)\n",
        "plt.figure(figsize=(6, 6))\n",
        "sns.heatmap(cm, annot=True, fmt='d', cmap='Blues', cbar=False,\n",
        "            xticklabels=['Predicted 0', 'Predicted 1'],\n",
        "            yticklabels=['Actual 0', 'Actual 1'])\n",
        "plt.xlabel('Predicted')\n",
        "plt.ylabel('Actual')\n",
        "plt.title('Confusion Matrix')\n",
        "plt.show()"
      ],
      "metadata": {
        "colab": {
          "base_uri": "https://localhost:8080/",
          "height": 564
        },
        "id": "-IG6pvRciO_N",
        "outputId": "5e2e69df-68e0-45f0-8158-1576d454152e"
      },
      "execution_count": null,
      "outputs": [
        {
          "output_type": "display_data",
          "data": {
            "text/plain": [
              "<Figure size 600x600 with 1 Axes>"
            ],
            "image/png": "[encoded data removed]"
          },
          "metadata": {}
        }
      ]
    }
  ],
  "metadata": {
    "accelerator": "TPU",
    "colab": {
      "provenance": [],
      "include_colab_link": true
    },
    "kernelspec": {
      "display_name": "Python 3",
      "name": "python3"
    },
    "language_info": {
      "name": "python"
    }
  },
  "nbformat": 4,
  "nbformat_minor": 0
}